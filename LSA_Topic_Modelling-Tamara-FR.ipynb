{
 "cells": [
  {
   "cell_type": "code",
   "execution_count": 1,
   "metadata": {},
   "outputs": [
    {
     "name": "stdout",
     "output_type": "stream",
     "text": [
      "Requirement already up-to-date: gensim in /opt/anaconda3/lib/python3.8/site-packages (3.8.3)\n",
      "Requirement already satisfied, skipping upgrade: six>=1.5.0 in /opt/anaconda3/lib/python3.8/site-packages (from gensim) (1.15.0)\n",
      "Requirement already satisfied, skipping upgrade: smart-open>=1.8.1 in /opt/anaconda3/lib/python3.8/site-packages (from gensim) (4.0.1)\n",
      "Requirement already satisfied, skipping upgrade: scipy>=0.18.1 in /opt/anaconda3/lib/python3.8/site-packages (from gensim) (1.5.0)\n",
      "Requirement already satisfied, skipping upgrade: numpy>=1.11.3 in /opt/anaconda3/lib/python3.8/site-packages (from gensim) (1.18.5)\n"
     ]
    }
   ],
   "source": [
    "#install gensim library for topic modeling algorithm \n",
    "!python -m pip install -U gensim "
   ]
  },
  {
   "cell_type": "code",
   "execution_count": 2,
   "metadata": {},
   "outputs": [],
   "source": [
    "import os.path #to work in iOS\n",
    "from gensim import corpora # gensim model to create a corpus dict\n",
    "from gensim.models import LsiModel # gensim Latent Sentiment Indexing model - generates topics\n",
    "from nltk.tokenize import RegexpTokenizer\n",
    "from nltk.corpus import stopwords # remove stopwords to process data into corpus\n",
    "from nltk.stem.porter import PorterStemmer #for stemming and lemmatization \n",
    "from gensim.models.coherencemodel import CoherenceModel# to calculate coherence values to determine optimal topic numbers\n",
    "import matplotlib.pyplot as plt "
   ]
  },
  {
   "cell_type": "code",
   "execution_count": 3,
   "metadata": {},
   "outputs": [],
   "source": [
    "# Create data load function for loading covid_cleandf2.csv. \n",
    "# \"\"\"\n",
    "#     Input  : path and file_name\n",
    "#     Purpose: loading text file\n",
    "#     Output : list of paragraphs/documents and\n",
    "#              title(initial 100 words considred as title of document)\n",
    "# with open( os.path.join(path, file_name) ,\"r\", encoding='utf_8') as fin:\n",
    "\n",
    "\n",
    "#     \"\"\"\n",
    "\n",
    "def load_data(path, file_name):\n",
    "    documents_list = []\n",
    "    titles=[]\n",
    "    with open( os.path.join(path, file_name) ,\"r\") as fin:\n",
    "        for line in fin.readlines():\n",
    "            text = line.strip()\n",
    "            documents_list.append(text)\n",
    "    print(\"Total Number of Documents:\",len(documents_list))\n",
    "    titles.append( text[0:min(len(text),100)] )\n",
    "    return documents_list,titles"
   ]
  },
  {
   "cell_type": "code",
   "execution_count": 4,
   "metadata": {},
   "outputs": [
    {
     "name": "stdout",
     "output_type": "stream",
     "text": [
      "Total Number of Documents: 602\n"
     ]
    }
   ],
   "source": [
    "documents_list,titles = load_data('/Users/tamaralottering/Downloads/GitHub/ds4d-project/Clean Data','FR_cleandf.txt')"
   ]
  },
  {
   "cell_type": "code",
   "execution_count": 6,
   "metadata": {},
   "outputs": [],
   "source": [
    "# After data loading function, you need to preprocess the text. \n",
    "# Following steps are taken to preprocess the text:\n",
    "\n",
    "# Tokenize the text articles\n",
    "# Remove stop words\n",
    "# Perform stemming on text artcle\n",
    "\n",
    "def preprocess_data(documents_list):\n",
    "    \"\"\"\n",
    "    Input  : docuemnt list\n",
    "    Purpose: preprocess text (tokenize, removing stopwords, and stemming)\n",
    "    Output : preprocessed text\n",
    "    \"\"\"\n",
    "    # initialize regex tokenizer\n",
    "    tokenizer = RegexpTokenizer(r'\\w+')\n",
    "    # create English stop words list\n",
    "    en_stop = set(stopwords.words('english'))\n",
    "    # Create p_stemmer of class PorterStemmer\n",
    "    p_stemmer = PorterStemmer()\n",
    "    # list for tokenized documents in loop\n",
    "    texts = []\n",
    "    # loop through document list\n",
    "    for i in documents_list:\n",
    "        # clean and tokenize document string\n",
    "        raw = i.lower()\n",
    "        tokens = tokenizer.tokenize(raw)\n",
    "        # remove stop words from tokens\n",
    "        stopped_tokens = [i for i in tokens if not i in en_stop]\n",
    "        # stem tokens\n",
    "        stemmed_tokens = [p_stemmer.stem(i) for i in stopped_tokens]\n",
    "        # add tokens to list\n",
    "        texts.append(stemmed_tokens)\n",
    "    return texts"
   ]
  },
  {
   "cell_type": "code",
   "execution_count": 7,
   "metadata": {},
   "outputs": [],
   "source": [
    "doc_clean = preprocess_data(documents_list)"
   ]
  },
  {
   "cell_type": "code",
   "execution_count": 16,
   "metadata": {},
   "outputs": [],
   "source": [
    "# Prepare Corpus\n",
    "# Next step is to prepare corpus. Here, you need to create a document-term matrix and dictionary of terms.\n",
    "\n",
    "def prepare_corpus(doc_clean):\n",
    "    \"\"\"\n",
    "    Input  : clean document\n",
    "    Purpose: create term dictionary of our courpus and Converting list of documents (corpus) into Document Term Matrix\n",
    "    Output : term dictionary and Document Term Matrix\n",
    "    \"\"\"\n",
    "    # Creating the term dictionary of our courpus, where every unique term is assigned an index. dictionary = corpora.Dictionary(doc_clean)\n",
    "    dictionary = corpora.Dictionary(doc_clean)\n",
    "    # Converting list of documents (corpus) into Document Term Matrix using dictionary prepared above.\n",
    "    doc_term_matrix = [dictionary.doc2bow(doc) for doc in doc_clean]\n",
    "    # generate LDA model\n",
    "    return dictionary,doc_term_matrix"
   ]
  },
  {
   "cell_type": "code",
   "execution_count": 17,
   "metadata": {},
   "outputs": [],
   "source": [
    " dictionary,doc_term_matrix = prepare_corpus(doc_clean)"
   ]
  },
  {
   "cell_type": "code",
   "execution_count": 18,
   "metadata": {},
   "outputs": [],
   "source": [
    "# Create an LSA model using Gensim\n",
    "# After corpus creation, you can generate a model using LSA.\n",
    "\n",
    "def create_gensim_lsa_model(doc_clean,number_of_topics,words):\n",
    "    \"\"\"\n",
    "    Input  : clean document, number of topics and number of words associated with each topic\n",
    "    Purpose: create LSA model using gensim\n",
    "    Output : return LSA model\n",
    "    \"\"\"\n",
    "    dictionary,doc_term_matrix = prepare_corpus(doc_clean)\n",
    "    # generate LSA model\n",
    "    lsamodel = LsiModel(doc_term_matrix, num_topics=number_of_topics, id2word = dictionary)  # train model\n",
    "    print(lsamodel.print_topics(num_topics=number_of_topics, num_words=words))\n",
    "    return lsamodel"
   ]
  },
  {
   "cell_type": "code",
   "execution_count": 19,
   "metadata": {},
   "outputs": [],
   "source": [
    "# Determine the number of topics\n",
    "# Another extra step needs to be taken to optimize results by identifying an optimum amount of topics. Here, you will generate coherence scores to determine an optimum number of topics.\n",
    "\n",
    "def compute_coherence_values(dictionary, doc_term_matrix, doc_clean, stop = number_of_topics, start=2, step=3):\n",
    "    \"\"\"\n",
    "    Input   : dictionary : Gensim dictionary\n",
    "              corpus : Gensim corpus\n",
    "              texts : List of input texts\n",
    "              stop : Max num of topics\n",
    "    purpose : Compute c_v coherence for various number of topics\n",
    "    Output  : model_list : List of LSA topic models\n",
    "              coherence_values : Coherence values corresponding to the LDA model with respective number of topics\n",
    "    \"\"\"\n",
    "    coherence_values = []\n",
    "    model_list = []\n",
    "    for number_of_topics in range(start, stop, step):\n",
    "        # generate LSA model\n",
    "        model = LsiModel(doc_term_matrix, num_topics=number_of_topics, id2word = dictionary)  # train model\n",
    "        model_list.append(model)\n",
    "        coherencemodel = CoherenceModel(model=model, texts=doc_clean, dictionary=dictionary, coherence='c_v')\n",
    "        coherence_values.append(coherencemodel.get_coherence())\n",
    "    return model_list, coherence_values"
   ]
  },
  {
   "cell_type": "code",
   "execution_count": 20,
   "metadata": {},
   "outputs": [],
   "source": [
    "#compute_coherence_values(dictionary, doc_term_matrix, doc_clean, stop, start=2, step=3)"
   ]
  },
  {
   "cell_type": "code",
   "execution_count": 21,
   "metadata": {},
   "outputs": [],
   "source": [
    "#Let's plot coherence score values to have a sense of optimal no. of topics\n",
    "def plot_graph(doc_clean,start, stop, step):\n",
    "    dictionary,doc_term_matrix=prepare_corpus(doc_clean)\n",
    "    model_list, coherence_values = compute_coherence_values(dictionary, doc_term_matrix,doc_clean,\n",
    "                                                            stop, start, step)\n",
    "    # Show graph\n",
    "    x = range(start, stop, step)\n",
    "    plt.plot(x, coherence_values)\n",
    "    plt.xlabel(\"Number of Topics\")\n",
    "    plt.ylabel(\"Coherence score\")\n",
    "    plt.legend((\"coherence_values\"), loc='best')\n",
    "    plt.show()"
   ]
  },
  {
   "cell_type": "code",
   "execution_count": 22,
   "metadata": {},
   "outputs": [
    {
     "data": {
      "image/png": "[encoded data removed]",
      "text/plain": [
       "<Figure size 432x288 with 1 Axes>"
      ]
     },
     "metadata": {
      "needs_background": "light"
     },
     "output_type": "display_data"
    }
   ],
   "source": [
    "start,stop,step=2,12,1\n",
    "plot_graph(doc_clean,start,stop,step)"
   ]
  },
  {
   "cell_type": "code",
   "execution_count": 23,
   "metadata": {},
   "outputs": [
    {
     "name": "stdout",
     "output_type": "stream",
     "text": [
      "Total Number of Documents: 602\n",
      "[(0, '0.387*\"said\" + 0.232*\"countri\" + 0.208*\"peopl\" + 0.177*\"coronaviru\" + 0.144*\"world\" + 0.143*\"health\" + 0.133*\"pandem\" + 0.133*\"covid19\" + 0.133*\"txt\" + 0.128*\"govern\"'), (1, '0.484*\"yemen\" + 0.246*\"saudi\" + 0.214*\"un\" + 0.182*\"rebel\" + 0.178*\"huthi\" + 0.172*\"ceasefir\" + 0.159*\"coalit\" + 0.155*\"arabia\" + 0.145*\"yemeni\" + 0.142*\"conflict\"'), (2, '0.407*\"said\" + -0.229*\"world\" + -0.180*\"pandem\" + -0.178*\"us\" + 0.163*\"case\" + 0.145*\"ship\" + 0.144*\"peopl\" + -0.138*\"global\" + 0.137*\"camp\" + 0.128*\"test\"'), (3, '0.380*\"said\" + -0.267*\"peopl\" + 0.206*\"iran\" + 0.178*\"us\" + -0.170*\"covid19\" + 0.160*\"trump\" + 0.158*\"china\" + 0.128*\"council\" + -0.121*\"need\" + 0.121*\"unit\"'), (4, '0.305*\"iran\" + -0.261*\"million\" + -0.242*\"said\" + 0.223*\"north\" + 0.195*\"sanction\" + 0.159*\"korea\" + 0.148*\"case\" + -0.142*\"percent\" + 0.141*\"coronaviru\" + -0.135*\"world\"')]\n"
     ]
    }
   ],
   "source": [
    "# LSA Model\n",
    "number_of_topics=5\n",
    "words=10\n",
    "document_list,titles=load_data('/Users/tamaralottering/Downloads/GitHub/ds4d-project/Clean Data','FR_cleandf.txt')\n",
    "text=preprocess_data(documents_list)\n",
    "model=create_gensim_lsa_model(doc_clean,number_of_topics,words)"
   ]
  },
  {
   "cell_type": "markdown",
   "metadata": {},
   "source": [
    "#### Topics: \n",
    "- Topic 1:\"said\", \"countri, \"peopl\", \"coronaviru\", \"world\", \"health\", \"pandem\", \"covid19\" ,\"govern\"' (COVID-19 Pandemic)\n",
    "- Topic 2: \"yemen\", \"saudi\", \"un\", \"rebel\", \"huthi\", \"ceasefir\", \"coalit\" , arabia\" , \"yemeni\", conflict\" (UN organised a ceasefire for Saudi Arabia rebel coalition in Yemeni conflict)\n",
    "- Topic 3: \"said\" \"world\", pandem\" ,\"us\" ,\"case\", \"ship\",\"peopl\" ,\"global\",\"camp\" ,\"test\" (??)\n",
    "- Topic 4: \"said\",*\"peopl\", \"iran\" ,\"us\" ,\"covid19\" ,\"trump\" ,\"china\",\"council\" ,\"need\",\"unit\" (China - US & Iran -US relations)\n",
    "- Topic 5: iran\" ,\"million\" ,\"said\" ,\"north\" ,\"sanction\",\"korea\" ,\"case\" ,\"percent\" ,\"coronaviru\" ,\"world\" (sanctions on N. Korea & percentage cases of covid)"
   ]
  },
  {
   "cell_type": "code",
   "execution_count": null,
   "metadata": {},
   "outputs": [],
   "source": []
  }
 ],
 "metadata": {
  "kernelspec": {
   "display_name": "Python 3",
   "language": "python",
   "name": "python3"
  },
  "language_info": {
   "codemirror_mode": {
    "name": "ipython",
    "version": 3
   },
   "file_extension": ".py",
   "mimetype": "text/x-python",
   "name": "python",
   "nbconvert_exporter": "python",
   "pygments_lexer": "ipython3",
   "version": "3.8.3"
  }
 },
 "nbformat": 4,
 "nbformat_minor": 4
}
