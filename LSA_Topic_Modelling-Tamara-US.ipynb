{
 "cells": [
  {
   "cell_type": "code",
   "execution_count": 1,
   "metadata": {},
   "outputs": [
    {
     "name": "stdout",
     "output_type": "stream",
     "text": [
      "Requirement already up-to-date: gensim in /opt/anaconda3/lib/python3.8/site-packages (3.8.3)\n",
      "Requirement already satisfied, skipping upgrade: six>=1.5.0 in /opt/anaconda3/lib/python3.8/site-packages (from gensim) (1.15.0)\n",
      "Requirement already satisfied, skipping upgrade: scipy>=0.18.1 in /opt/anaconda3/lib/python3.8/site-packages (from gensim) (1.5.0)\n",
      "Requirement already satisfied, skipping upgrade: smart-open>=1.8.1 in /opt/anaconda3/lib/python3.8/site-packages (from gensim) (4.0.1)\n",
      "Requirement already satisfied, skipping upgrade: numpy>=1.11.3 in /opt/anaconda3/lib/python3.8/site-packages (from gensim) (1.18.5)\n"
     ]
    }
   ],
   "source": [
    "#install gensim library for topic modeling algorithm \n",
    "!python -m pip install -U gensim "
   ]
  },
  {
   "cell_type": "code",
   "execution_count": 2,
   "metadata": {},
   "outputs": [],
   "source": [
    "import os.path #to work in iOS\n",
    "from gensim import corpora # gensim model to create a corpus dict\n",
    "from gensim.models import LsiModel # gensim Latent Sentiment Indexing model - generates topics\n",
    "from nltk.tokenize import RegexpTokenizer\n",
    "from nltk.corpus import stopwords # remove stopwords to process data into corpus\n",
    "from nltk.stem.porter import PorterStemmer #for stemming and lemmatization \n",
    "from gensim.models.coherencemodel import CoherenceModel# to calculate coherence values to determine optimal topic numbers\n",
    "import matplotlib.pyplot as plt "
   ]
  },
  {
   "cell_type": "code",
   "execution_count": 3,
   "metadata": {},
   "outputs": [],
   "source": [
    "# Create data load function for loading covid_cleandf2.csv. \n",
    "# \"\"\"\n",
    "#     Input  : path and file_name\n",
    "#     Purpose: loading text file\n",
    "#     Output : list of paragraphs/documents and\n",
    "#              title(initial 100 words considred as title of document)\n",
    "# with open( os.path.join(path, file_name) ,\"r\", encoding='utf_8') as fin:\n",
    "\n",
    "\n",
    "#     \"\"\"\n",
    "\n",
    "def load_data(path, file_name):\n",
    "    documents_list = []\n",
    "    titles=[]\n",
    "    with open( os.path.join(path, file_name) ,\"r\") as fin:\n",
    "        for line in fin.readlines():\n",
    "            text = line.strip()\n",
    "            documents_list.append(text)\n",
    "    print(\"Total Number of Documents:\",len(documents_list))\n",
    "    titles.append( text[0:min(len(text),100)] )\n",
    "    return documents_list,titles"
   ]
  },
  {
   "cell_type": "code",
   "execution_count": 4,
   "metadata": {},
   "outputs": [
    {
     "name": "stdout",
     "output_type": "stream",
     "text": [
      "Total Number of Documents: 3743\n"
     ]
    }
   ],
   "source": [
    "documents_list,titles = load_data('/Users/tamaralottering/Downloads/GitHub/ds4d-project/Clean Data','US_cleandf.txt')"
   ]
  },
  {
   "cell_type": "code",
   "execution_count": 5,
   "metadata": {},
   "outputs": [],
   "source": [
    "# After data loading function, you need to preprocess the text. \n",
    "# Following steps are taken to preprocess the text:\n",
    "\n",
    "# Tokenize the text articles\n",
    "# Remove stop words\n",
    "# Perform stemming on text artcle\n",
    "\n",
    "def preprocess_data(documents_list):\n",
    "    \"\"\"\n",
    "    Input  : docuemnt list\n",
    "    Purpose: preprocess text (tokenize, removing stopwords, and stemming)\n",
    "    Output : preprocessed text\n",
    "    \"\"\"\n",
    "    # initialize regex tokenizer\n",
    "    tokenizer = RegexpTokenizer(r'\\w+')\n",
    "    # create English stop words list\n",
    "    en_stop = set(stopwords.words('english'))\n",
    "    # Create p_stemmer of class PorterStemmer\n",
    "    p_stemmer = PorterStemmer()\n",
    "    # list for tokenized documents in loop\n",
    "    texts = []\n",
    "    # loop through document list\n",
    "    for i in documents_list:\n",
    "        # clean and tokenize document string\n",
    "        raw = i.lower()\n",
    "        tokens = tokenizer.tokenize(raw)\n",
    "        # remove stop words from tokens\n",
    "        stopped_tokens = [i for i in tokens if not i in en_stop]\n",
    "        # stem tokens\n",
    "        stemmed_tokens = [p_stemmer.stem(i) for i in stopped_tokens]\n",
    "        # add tokens to list\n",
    "        texts.append(stemmed_tokens)\n",
    "    return texts"
   ]
  },
  {
   "cell_type": "code",
   "execution_count": 6,
   "metadata": {},
   "outputs": [],
   "source": [
    "doc_clean = preprocess_data(documents_list)"
   ]
  },
  {
   "cell_type": "code",
   "execution_count": 7,
   "metadata": {},
   "outputs": [],
   "source": [
    "# Prepare Corpus\n",
    "# Next step is to prepare corpus. Here, you need to create a document-term matrix and dictionary of terms.\n",
    "\n",
    "def prepare_corpus(doc_clean):\n",
    "    \"\"\"\n",
    "    Input  : clean document\n",
    "    Purpose: create term dictionary of our courpus and Converting list of documents (corpus) into Document Term Matrix\n",
    "    Output : term dictionary and Document Term Matrix\n",
    "    \"\"\"\n",
    "    # Creating the term dictionary of our courpus, where every unique term is assigned an index. dictionary = corpora.Dictionary(doc_clean)\n",
    "    dictionary = corpora.Dictionary(doc_clean)\n",
    "    # Converting list of documents (corpus) into Document Term Matrix using dictionary prepared above.\n",
    "    doc_term_matrix = [dictionary.doc2bow(doc) for doc in doc_clean]\n",
    "    # generate LDA model\n",
    "    return dictionary,doc_term_matrix"
   ]
  },
  {
   "cell_type": "code",
   "execution_count": 8,
   "metadata": {},
   "outputs": [],
   "source": [
    " dictionary,doc_term_matrix = prepare_corpus(doc_clean)"
   ]
  },
  {
   "cell_type": "code",
   "execution_count": 21,
   "metadata": {},
   "outputs": [],
   "source": [
    "# Create an LSA model using Gensim\n",
    "# After corpus creation, you can generate a model using LSA.\n",
    "\n",
    "def create_gensim_lsa_model(doc_clean,number_of_topics,words):\n",
    "    \"\"\"\n",
    "    Input  : clean document, number of topics and number of words associated with each topic\n",
    "    Purpose: create LSA model using gensim\n",
    "    Output : return LSA model\n",
    "    \"\"\"\n",
    "    dictionary,doc_term_matrix = prepare_corpus(doc_clean)\n",
    "    # generate LSA model\n",
    "    lsamodel = LsiModel(doc_term_matrix, num_topics=number_of_topics, id2word = dictionary)  # train model\n",
    "    print(lsamodel.print_topics(num_topics=number_of_topics, num_words=words))\n",
    "    return lsamodel"
   ]
  },
  {
   "cell_type": "code",
   "execution_count": 22,
   "metadata": {},
   "outputs": [],
   "source": [
    "# Determine the number of topics\n",
    "# Another extra step needs to be taken to optimize results by identifying an optimum amount of topics. Here, you will generate coherence scores to determine an optimum number of topics.\n",
    "\n",
    "def compute_coherence_values(dictionary, doc_term_matrix, doc_clean, stop = number_of_topics, start=2, step=3):\n",
    "    \"\"\"\n",
    "    Input   : dictionary : Gensim dictionary\n",
    "              corpus : Gensim corpus\n",
    "              texts : List of input texts\n",
    "              stop : Max num of topics\n",
    "    purpose : Compute c_v coherence for various number of topics\n",
    "    Output  : model_list : List of LSA topic models\n",
    "              coherence_values : Coherence values corresponding to the LDA model with respective number of topics\n",
    "    \"\"\"\n",
    "    coherence_values = []\n",
    "    model_list = []\n",
    "    for number_of_topics in range(start, stop, step):\n",
    "        # generate LSA model\n",
    "        model = LsiModel(doc_term_matrix, num_topics=number_of_topics, id2word = dictionary)  # train model\n",
    "        model_list.append(model)\n",
    "        coherencemodel = CoherenceModel(model=model, texts=doc_clean, dictionary=dictionary, coherence='c_v')\n",
    "        coherence_values.append(coherencemodel.get_coherence())\n",
    "    return model_list, coherence_values"
   ]
  },
  {
   "cell_type": "code",
   "execution_count": 23,
   "metadata": {},
   "outputs": [],
   "source": [
    "#Let's plot coherence score values to have a sense of optimal no. of topics\n",
    "def plot_graph(doc_clean,start, stop, step):\n",
    "    dictionary,doc_term_matrix=prepare_corpus(doc_clean)\n",
    "    model_list, coherence_values = compute_coherence_values(dictionary, doc_term_matrix,doc_clean,\n",
    "                                                            stop, start, step)\n",
    "    # Show graph\n",
    "    x = range(start, stop, step)\n",
    "    plt.plot(x, coherence_values)\n",
    "    plt.xlabel(\"Number of Topics\")\n",
    "    plt.ylabel(\"Coherence score\")\n",
    "    plt.legend((\"coherence_values\"), loc='best')\n",
    "    plt.show()"
   ]
  },
  {
   "cell_type": "code",
   "execution_count": null,
   "metadata": {},
   "outputs": [],
   "source": [
    "start,stop,step=2,12,1\n",
    "plot_graph(doc_clean,start,stop,step)"
   ]
  },
  {
   "cell_type": "code",
   "execution_count": 20,
   "metadata": {
    "scrolled": true
   },
   "outputs": [
    {
     "name": "stdout",
     "output_type": "stream",
     "text": [
      "Total Number of Documents: 3743\n",
      "[(0, '0.234*\"peopl\" + 0.206*\"go\" + 0.170*\"us\" + 0.153*\"say\" + 0.142*\"state\" + 0.142*\"get\" + 0.141*\"said\" + 0.138*\"know\" + 0.138*\"one\" + 0.129*\"think\"'), (1, '0.481*\"pm\" + 0.468*\"hr\" + 0.388*\"1\" + 0.281*\"min\" + 0.167*\"r\" + 0.167*\"2\" + 0.156*\"pg13\" + 0.109*\"sat\" + 0.106*\"sun\" + 0.104*\"nr\"'), (2, '0.239*\"famili\" + 0.208*\"love\" + 0.183*\"mn\" + 0.178*\"surviv\" + 0.178*\"2020\" + 0.169*\"grandchildren\" + 0.168*\"age\" + 0.163*\"year\" + 0.157*\"memori\" + 0.157*\"pass\"'), (3, '0.403*\"said\" + -0.247*\"go\" + 0.237*\"coronaviru\" + -0.189*\"think\" + -0.181*\"know\" + 0.172*\"health\" + 0.144*\"case\" + 0.136*\"countri\" + -0.136*\"get\" + 0.134*\"covid19\"'), (4, '-0.653*\"min\" + 0.258*\"hr\" + 0.229*\"1\" + -0.175*\"sat\" + -0.147*\"sun\" + -0.130*\"wed\" + -0.127*\"tue\" + -0.113*\"state\" + -0.106*\"mon\" + -0.102*\"thur\"'), (5, '-0.299*\"min\" + 0.218*\"state\" + -0.212*\"market\" + 0.205*\"presid\" + 0.177*\"trump\" + -0.167*\"us\" + 0.156*\"test\" + 0.137*\"hr\" + 0.127*\"new\" + 0.124*\"said\"'), (6, '0.314*\"cnn\" + 0.242*\"video\" + -0.234*\"said\" + 0.225*\"clip\" + 0.173*\"begin\" + 0.158*\"end\" + -0.157*\"market\" + 0.154*\"say\" + 0.143*\"peopl\" + -0.142*\"think\"')]\n"
     ]
    }
   ],
   "source": [
    "# LSA Model\n",
    "number_of_topics=7\n",
    "words=15\n",
    "document_list,titles=load_data('/Users/tamaralottering/Downloads/GitHub/ds4d-project/Clean Data','US_cleandf.txt')\n",
    "text=preprocess_data(documents_list)\n",
    "model=create_gensim_lsa_model(doc_clean,number_of_topics,words)"
   ]
  },
  {
   "cell_type": "markdown",
   "metadata": {},
   "source": [
    "#### Topics: \n",
    "- Topic 1:peopl\", \"go\", \"us\", say\", \"state\", get\", \"said\", \"know\", \"one\", \"think\" (unclear)\n",
    "- Topic 3: \"famili\", \"love\", \"mn\", surviv\", 2020\", grandchildren\" ,age\" ,year\" ,\"memori\" ,pass\"(unclear)\n",
    "- Topic 4: said\", \"go\" ,\"coronaviru\" ,\"think\" ,\"know\" ,\"health\" ,case\" ,\"countri\" ,get\",\"covid19\"\n",
    "- Topic 6: \"min\", \"state\", \"market\" ,presid\" +,\"trump\" ,\"us\" , test\", \"hr\" ,\"new\", \"said\"' (Presdent Trump & testing)\n",
    "- Topic 7: cnn\" ,\"video\" ,said\" ,\"clip\" ,\"begin\",*\"end\" ,\"market\" ,\"say\" ,\"peopl\" ,\"think\" (unclear)"
   ]
  },
  {
   "cell_type": "code",
   "execution_count": null,
   "metadata": {},
   "outputs": [],
   "source": []
  }
 ],
 "metadata": {
  "kernelspec": {
   "display_name": "Python 3",
   "language": "python",
   "name": "python3"
  },
  "language_info": {
   "codemirror_mode": {
    "name": "ipython",
    "version": 3
   },
   "file_extension": ".py",
   "mimetype": "text/x-python",
   "name": "python",
   "nbconvert_exporter": "python",
   "pygments_lexer": "ipython3",
   "version": "3.8.3"
  }
 },
 "nbformat": 4,
 "nbformat_minor": 4
}
