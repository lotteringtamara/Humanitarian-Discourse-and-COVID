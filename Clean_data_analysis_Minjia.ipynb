{
 "cells": [
  {
   "cell_type": "code",
   "execution_count": 1,
   "metadata": {},
   "outputs": [],
   "source": [
    "import pandas as pd \n",
    "import matplotlib.pyplot as plt\n",
    "import numpy as np\n",
    "%matplotlib inline"
   ]
  },
  {
   "cell_type": "code",
   "execution_count": 3,
   "metadata": {},
   "outputs": [],
   "source": [
    "df = pd.read_csv('covid_cleandf2.csv')"
   ]
  },
  {
   "cell_type": "code",
   "execution_count": 4,
   "metadata": {},
   "outputs": [
    {
     "data": {
      "text/html": [
       "<div>\n",
       "<style scoped>\n",
       "    .dataframe tbody tr th:only-of-type {\n",
       "        vertical-align: middle;\n",
       "    }\n",
       "\n",
       "    .dataframe tbody tr th {\n",
       "        vertical-align: top;\n",
       "    }\n",
       "\n",
       "    .dataframe thead th {\n",
       "        text-align: right;\n",
       "    }\n",
       "</style>\n",
       "<table border=\"1\" class=\"dataframe\">\n",
       "  <thead>\n",
       "    <tr style=\"text-align: right;\">\n",
       "      <th></th>\n",
       "      <th>name</th>\n",
       "      <th>path</th>\n",
       "      <th>country</th>\n",
       "      <th>network</th>\n",
       "      <th>date</th>\n",
       "      <th>token_freq</th>\n",
       "      <th>text</th>\n",
       "    </tr>\n",
       "  </thead>\n",
       "  <tbody>\n",
       "    <tr>\n",
       "      <th>0</th>\n",
       "      <td>20191201_FR_RFI_GDELT260769.txt</td>\n",
       "      <td>Raw text/FRClean/20191201_FR_RFI_GDELT260769.txt</td>\n",
       "      <td>FR</td>\n",
       "      <td>RFI</td>\n",
       "      <td>20191201</td>\n",
       "      <td>4</td>\n",
       "      <td>an hivaids awareness campaign on the eve of wo...</td>\n",
       "    </tr>\n",
       "    <tr>\n",
       "      <th>1</th>\n",
       "      <td>20191204_AE_KhaleejTimes_GDELT75493.txt</td>\n",
       "      <td>Raw text/AEClean/20191204_AE_KhaleejTimes_GDEL...</td>\n",
       "      <td>AE</td>\n",
       "      <td>KhaleejTimes</td>\n",
       "      <td>20191204</td>\n",
       "      <td>16</td>\n",
       "      <td>wknd inspired living kt home videos interactiv...</td>\n",
       "    </tr>\n",
       "    <tr>\n",
       "      <th>2</th>\n",
       "      <td>20191214_TR_AnadoluAgency_NEXIS720304.txt</td>\n",
       "      <td>Raw text/TRClean/20191214_TR_AnadoluAgency_NEX...</td>\n",
       "      <td>TR</td>\n",
       "      <td>AnadoluAgency</td>\n",
       "      <td>20191214</td>\n",
       "      <td>4</td>\n",
       "      <td>virus transmitted to people from wild animals ...</td>\n",
       "    </tr>\n",
       "    <tr>\n",
       "      <th>3</th>\n",
       "      <td>20191218_US_USAToday_GNAPI57390.txt</td>\n",
       "      <td>Raw text/USClean/20191218_US_USAToday_GNAPI573...</td>\n",
       "      <td>US</td>\n",
       "      <td>USAToday</td>\n",
       "      <td>20191218</td>\n",
       "      <td>7</td>\n",
       "      <td>alabama mobile researchers from the university...</td>\n",
       "    </tr>\n",
       "    <tr>\n",
       "      <th>4</th>\n",
       "      <td>20191218_US_TheNewHumanitarian_GNAPI57383.txt</td>\n",
       "      <td>Raw text/USClean/20191218_US_TheNewHumanitaria...</td>\n",
       "      <td>US</td>\n",
       "      <td>TheNewHumanitarian</td>\n",
       "      <td>20191218</td>\n",
       "      <td>4</td>\n",
       "      <td>the humanitarian sector has a trust problem th...</td>\n",
       "    </tr>\n",
       "    <tr>\n",
       "      <th>...</th>\n",
       "      <td>...</td>\n",
       "      <td>...</td>\n",
       "      <td>...</td>\n",
       "      <td>...</td>\n",
       "      <td>...</td>\n",
       "      <td>...</td>\n",
       "      <td>...</td>\n",
       "    </tr>\n",
       "    <tr>\n",
       "      <th>13426</th>\n",
       "      <td>20200819_GB_DailyMail_NEXIS322650.txt</td>\n",
       "      <td>Raw text/UKClean/20200819_GB_DailyMail_NEXIS32...</td>\n",
       "      <td>UK</td>\n",
       "      <td>DailyMail</td>\n",
       "      <td>20200819</td>\n",
       "      <td>16</td>\n",
       "      <td>jill biden shrugged of president trump is atta...</td>\n",
       "    </tr>\n",
       "    <tr>\n",
       "      <th>13427</th>\n",
       "      <td>20200819_KW_KUNA_GDELT162457.txt</td>\n",
       "      <td>Raw text/KWClean/20200819_KW_KUNA_GDELT162457.txt</td>\n",
       "      <td>KW</td>\n",
       "      <td>KUNA</td>\n",
       "      <td>20200819</td>\n",
       "      <td>6</td>\n",
       "      <td>loc23272027 gmt kuwait april 23 kuna un secret...</td>\n",
       "    </tr>\n",
       "    <tr>\n",
       "      <th>13428</th>\n",
       "      <td>20200819_KW_KUNA_GDELT169766.txt</td>\n",
       "      <td>Raw text/KWClean/20200819_KW_KUNA_GDELT169766.txt</td>\n",
       "      <td>KW</td>\n",
       "      <td>KUNA</td>\n",
       "      <td>20200819</td>\n",
       "      <td>3</td>\n",
       "      <td>loc15121212 gmt rome april 26 kuna the kuwaiti...</td>\n",
       "    </tr>\n",
       "    <tr>\n",
       "      <th>13429</th>\n",
       "      <td>20200819_KW_KUNA_GDELT174322.txt</td>\n",
       "      <td>Raw text/KWClean/20200819_KW_KUNA_GDELT174322.txt</td>\n",
       "      <td>KW</td>\n",
       "      <td>KUNA</td>\n",
       "      <td>20200819</td>\n",
       "      <td>5</td>\n",
       "      <td>loc02532353 gmt kuwait march 6 kuna the kuwait...</td>\n",
       "    </tr>\n",
       "    <tr>\n",
       "      <th>13430</th>\n",
       "      <td>20200820_GB_DailyMail_NEXIS322648.txt</td>\n",
       "      <td>Raw text/UKClean/20200820_GB_DailyMail_NEXIS32...</td>\n",
       "      <td>UK</td>\n",
       "      <td>DailyMail</td>\n",
       "      <td>20200820</td>\n",
       "      <td>10</td>\n",
       "      <td>19million fewer women used contraceptive servi...</td>\n",
       "    </tr>\n",
       "  </tbody>\n",
       "</table>\n",
       "<p>13431 rows × 7 columns</p>\n",
       "</div>"
      ],
      "text/plain": [
       "                                                name  \\\n",
       "0                    20191201_FR_RFI_GDELT260769.txt   \n",
       "1            20191204_AE_KhaleejTimes_GDELT75493.txt   \n",
       "2          20191214_TR_AnadoluAgency_NEXIS720304.txt   \n",
       "3                20191218_US_USAToday_GNAPI57390.txt   \n",
       "4      20191218_US_TheNewHumanitarian_GNAPI57383.txt   \n",
       "...                                              ...   \n",
       "13426          20200819_GB_DailyMail_NEXIS322650.txt   \n",
       "13427               20200819_KW_KUNA_GDELT162457.txt   \n",
       "13428               20200819_KW_KUNA_GDELT169766.txt   \n",
       "13429               20200819_KW_KUNA_GDELT174322.txt   \n",
       "13430          20200820_GB_DailyMail_NEXIS322648.txt   \n",
       "\n",
       "                                                    path country  \\\n",
       "0       Raw text/FRClean/20191201_FR_RFI_GDELT260769.txt      FR   \n",
       "1      Raw text/AEClean/20191204_AE_KhaleejTimes_GDEL...      AE   \n",
       "2      Raw text/TRClean/20191214_TR_AnadoluAgency_NEX...      TR   \n",
       "3      Raw text/USClean/20191218_US_USAToday_GNAPI573...      US   \n",
       "4      Raw text/USClean/20191218_US_TheNewHumanitaria...      US   \n",
       "...                                                  ...     ...   \n",
       "13426  Raw text/UKClean/20200819_GB_DailyMail_NEXIS32...      UK   \n",
       "13427  Raw text/KWClean/20200819_KW_KUNA_GDELT162457.txt      KW   \n",
       "13428  Raw text/KWClean/20200819_KW_KUNA_GDELT169766.txt      KW   \n",
       "13429  Raw text/KWClean/20200819_KW_KUNA_GDELT174322.txt      KW   \n",
       "13430  Raw text/UKClean/20200820_GB_DailyMail_NEXIS32...      UK   \n",
       "\n",
       "                  network      date  token_freq  \\\n",
       "0                     RFI  20191201           4   \n",
       "1            KhaleejTimes  20191204          16   \n",
       "2           AnadoluAgency  20191214           4   \n",
       "3                USAToday  20191218           7   \n",
       "4      TheNewHumanitarian  20191218           4   \n",
       "...                   ...       ...         ...   \n",
       "13426           DailyMail  20200819          16   \n",
       "13427                KUNA  20200819           6   \n",
       "13428                KUNA  20200819           3   \n",
       "13429                KUNA  20200819           5   \n",
       "13430           DailyMail  20200820          10   \n",
       "\n",
       "                                                    text  \n",
       "0      an hivaids awareness campaign on the eve of wo...  \n",
       "1      wknd inspired living kt home videos interactiv...  \n",
       "2      virus transmitted to people from wild animals ...  \n",
       "3      alabama mobile researchers from the university...  \n",
       "4      the humanitarian sector has a trust problem th...  \n",
       "...                                                  ...  \n",
       "13426  jill biden shrugged of president trump is atta...  \n",
       "13427  loc23272027 gmt kuwait april 23 kuna un secret...  \n",
       "13428  loc15121212 gmt rome april 26 kuna the kuwaiti...  \n",
       "13429  loc02532353 gmt kuwait march 6 kuna the kuwait...  \n",
       "13430  19million fewer women used contraceptive servi...  \n",
       "\n",
       "[13431 rows x 7 columns]"
      ]
     },
     "execution_count": 4,
     "metadata": {},
     "output_type": "execute_result"
    }
   ],
   "source": [
    "df"
   ]
  },
  {
   "cell_type": "code",
   "execution_count": 5,
   "metadata": {},
   "outputs": [
    {
     "name": "stdout",
     "output_type": "stream",
     "text": [
      "1190 news related to covid-19 in CN\n",
      "1327 news related to covid-19 in IR\n",
      "574 news related to covid-19 in QA\n",
      "1069 news related to covid-19 in RU\n",
      "425 news related to covid-19 in TR\n",
      "3742 news related to covid-19 in US\n",
      "2682 news related to covid-19 in UK\n",
      "251 news related to covid-19 in DE\n",
      "601 news related to covid-19 in FR\n",
      "964 news related to covid-19 in AE\n",
      "546 news related to covid-19 in SA\n",
      "60 news related to covid-19 in KW\n"
     ]
    }
   ],
   "source": [
    "countries = ['CN','IR','QA','RU','TR','US','UK','DE','FR','AE','SA','KW']\n",
    "for i in countries:\n",
    "    num = (df.loc[df['country']==i]).shape[0]\n",
    "    print(num,\"news related to covid-19 in\",i)"
   ]
  },
  {
   "cell_type": "code",
   "execution_count": 6,
   "metadata": {},
   "outputs": [],
   "source": [
    "New_Global_Media_Players = ['CN','IR','TR','RU']\n",
    "Euro_Atlantic_Countries = ['US','UK','DE','FR']\n",
    "Gulf_Donor = ['AE','SA','KW','QA']"
   ]
  },
  {
   "cell_type": "code",
   "execution_count": 7,
   "metadata": {},
   "outputs": [],
   "source": [
    "def countFile(block):\n",
    "    num = 0\n",
    "    for i in block:\n",
    "        num = num + (df.loc[df['country']==i]).shape[0]\n",
    "    print(num,\"news related to covid-19.\",'\\n')"
   ]
  },
  {
   "cell_type": "code",
   "execution_count": 8,
   "metadata": {},
   "outputs": [
    {
     "name": "stdout",
     "output_type": "stream",
     "text": [
      "New Global Media Players:\n",
      "4011 news related to covid-19. \n",
      "\n",
      "Euro-Atlantic Countries:\n",
      "7276 news related to covid-19. \n",
      "\n",
      "Gulf Donor:\n",
      "2144 news related to covid-19. \n",
      "\n"
     ]
    }
   ],
   "source": [
    "print('New Global Media Players:')\n",
    "countFile(New_Global_Media_Players)\n",
    "print('Euro-Atlantic Countries:')\n",
    "countFile(Euro_Atlantic_Countries)\n",
    "print('Gulf Donor:')\n",
    "countFile(Gulf_Donor)"
   ]
  },
  {
   "cell_type": "code",
   "execution_count": 9,
   "metadata": {},
   "outputs": [],
   "source": [
    "year_month = []\n",
    "for i in range(df.shape[0]):\n",
    "    d = str(df.loc[i,'date'])\n",
    "    month = d[0:6]\n",
    "    year_month.append(month)\n",
    "df['year_month'] = year_month"
   ]
  },
  {
   "cell_type": "code",
   "execution_count": 10,
   "metadata": {},
   "outputs": [
    {
     "name": "stdout",
     "output_type": "stream",
     "text": [
      "There are 12 articles in 201912\n",
      "There are 93 articles in 202001\n",
      "There are 613 articles in 202002\n",
      "There are 2998 articles in 202003\n",
      "There are 4325 articles in 202004\n",
      "There are 2223 articles in 202005\n",
      "There are 1382 articles in 202006\n",
      "There are 1231 articles in 202007\n",
      "There are 554 articles in 202008\n"
     ]
    }
   ],
   "source": [
    "monthList = ['201912','202001','202002','202003','202004','202005','202006','202007','202008']\n",
    "monthfile = []\n",
    "for m in monthList:\n",
    "    month_count = 0\n",
    "    for i in range(df.shape[0]):\n",
    "        if df.loc[i,'year_month'] == m:\n",
    "            month_count = month_count + 1\n",
    "    monthfile.append(month_count)\n",
    "    print('There are',month_count,'articles in',m)"
   ]
  },
  {
   "cell_type": "code",
   "execution_count": 11,
   "metadata": {},
   "outputs": [],
   "source": [
    "def count_monthfile(block):\n",
    "    month_file = []\n",
    "    for m in monthList:\n",
    "        month_count = 0\n",
    "        for i in range(df.shape[0]):\n",
    "            if df.loc[i,'country'] in block:\n",
    "                if df.loc[i,'year_month'] == m:\n",
    "                    month_count = month_count + 1\n",
    "            month_file.append(month_count)\n",
    "        print('There are',month_count,'articles in',m)"
   ]
  },
  {
   "cell_type": "code",
   "execution_count": 12,
   "metadata": {},
   "outputs": [
    {
     "name": "stdout",
     "output_type": "stream",
     "text": [
      "There are 1 articles in 201912\n",
      "There are 30 articles in 202001\n",
      "There are 199 articles in 202002\n",
      "There are 995 articles in 202003\n",
      "There are 1350 articles in 202004\n",
      "There are 662 articles in 202005\n",
      "There are 348 articles in 202006\n",
      "There are 332 articles in 202007\n",
      "There are 94 articles in 202008\n",
      "There are 4 articles in 201912\n",
      "There are 53 articles in 202001\n",
      "There are 364 articles in 202002\n",
      "There are 1626 articles in 202003\n",
      "There are 2323 articles in 202004\n",
      "There are 1131 articles in 202005\n",
      "There are 727 articles in 202006\n",
      "There are 672 articles in 202007\n",
      "There are 376 articles in 202008\n",
      "There are 7 articles in 201912\n",
      "There are 10 articles in 202001\n",
      "There are 50 articles in 202002\n",
      "There are 377 articles in 202003\n",
      "There are 652 articles in 202004\n",
      "There are 430 articles in 202005\n",
      "There are 307 articles in 202006\n",
      "There are 227 articles in 202007\n",
      "There are 84 articles in 202008\n"
     ]
    }
   ],
   "source": [
    "count_monthfile(New_Global_Media_Players)\n",
    "count_monthfile(Euro_Atlantic_Countries)\n",
    "count_monthfile(Gulf_Donor)"
   ]
  },
  {
   "cell_type": "markdown",
   "metadata": {},
   "source": [
    "# Data summary"
   ]
  },
  {
   "cell_type": "markdown",
   "metadata": {},
   "source": [
    "#### All countries from 3 blocks"
   ]
  },
  {
   "cell_type": "markdown",
   "metadata": {},
   "source": [
    "4011 news related to covid-19 in New_Global_Media_Players  \n",
    "7276 news related to covid-19 in Euro_Atlantic_Countries  \n",
    "2144 news related to covid-19 in Gulf_Donor"
   ]
  },
  {
   "cell_type": "markdown",
   "metadata": {},
   "source": [
    "There are 12 articles in 201912  \n",
    "There are 93 articles in 202001  \n",
    "There are 613 articles in 202002  \n",
    "There are 2998 articles in 202003  \n",
    "There are 4325 articles in 202004  \n",
    "There are 2223 articles in 202005  \n",
    "There are 1382 articles in 202006  \n",
    "There are 1231 articles in 202007  \n",
    "There are 554 articles in 202008"
   ]
  },
  {
   "cell_type": "markdown",
   "metadata": {},
   "source": [
    "#### New Global Media Players:"
   ]
  },
  {
   "cell_type": "markdown",
   "metadata": {},
   "source": [
    "There are 1 articles in 201912  \n",
    "There are 30 articles in 202001  \n",
    "There are 199 articles in 202002  \n",
    "There are 995 articles in 202003  \n",
    "There are 1350 articles in 202004    \n",
    "There are 662 articles in 202005    \n",
    "There are 348 articles in 202006    \n",
    "There are 332 articles in 202007    \n",
    "There are 94 articles in 202008  "
   ]
  },
  {
   "cell_type": "markdown",
   "metadata": {},
   "source": [
    "#### Euro-Atlantic Countries:"
   ]
  },
  {
   "cell_type": "markdown",
   "metadata": {},
   "source": [
    "There are 4 articles in 201912  \n",
    "There are 53 articles in 202001  \n",
    "There are 364 articles in 202002  \n",
    "There are 1626 articles in 202003  \n",
    "There are 2323 articles in 202004  \n",
    "There are 1131 articles in 202005  \n",
    "There are 727 articles in 202006  \n",
    "There are 672 articles in 202007  \n",
    "There are 376 articles in 202008"
   ]
  },
  {
   "cell_type": "markdown",
   "metadata": {},
   "source": [
    "#### Gulf Donor:"
   ]
  },
  {
   "cell_type": "markdown",
   "metadata": {},
   "source": [
    "There are 7 articles in 201912  \n",
    "There are 10 articles in 202001  \n",
    "There are 50 articles in 202002  \n",
    "There are 377 articles in 202003  \n",
    "There are 652 articles in 202004  \n",
    "There are 430 articles in 202005  \n",
    "There are 307 articles in 202006  \n",
    "There are 227 articles in 202007  \n",
    "There are 84 articles in 202008"
   ]
  },
  {
   "cell_type": "markdown",
   "metadata": {},
   "source": [
    "# Some visualization"
   ]
  },
  {
   "cell_type": "code",
   "execution_count": 23,
   "metadata": {},
   "outputs": [
    {
     "data": {
      "image/png": "[encoded data removed]",
      "text/plain": [
       "<Figure size 720x432 with 1 Axes>"
      ]
     },
     "metadata": {
      "needs_background": "light"
     },
     "output_type": "display_data"
    }
   ],
   "source": [
    "def autolabel(rects):\n",
    "    for rect in rects:\n",
    "        height = rect.get_height()\n",
    "        plt.text(rect.get_x()+rect.get_width()/2.- 0.2, 1.02*height, '%s' % int(height))\n",
    "\n",
    "plt.figure(figsize=(10,6))\n",
    "autolabel(plt.bar(range(len(monthfile)), monthfile, tick_label=monthList, color='#B50000'))\n",
    "plt.xlabel('Month', fontsize=12)\n",
    "plt.ylabel('Number of articles', fontsize=12)\n",
    "plt.title('Number of news articles per month about COVID-19')\n",
    "plt.show()\n"
   ]
  },
  {
   "cell_type": "code",
   "execution_count": 24,
   "metadata": {},
   "outputs": [
    {
     "data": {
      "image/png": "[encoded data removed]",
      "text/plain": [
       "<Figure size 720x432 with 1 Axes>"
      ]
     },
     "metadata": {
      "needs_background": "light"
     },
     "output_type": "display_data"
    }
   ],
   "source": [
    "ngmp = [1,30,199,995,1350,662,348,332,94]\n",
    "eac = [4,53,364,1626,2323,1131,727,672,376]\n",
    "gd = [7,10,50,377,652,430,307,227,84]\n",
    "N = 9\n",
    "ind = np.arange(N)\n",
    "plt.figure(figsize=(10,6)) \n",
    "plt.xticks(ind, monthList)\n",
    "plt.ylabel('Numbers of articles')\n",
    "d = []\n",
    "for i in range(0, len(ngmp)):\n",
    "    sum = ngmp[i] + eac[i]\n",
    "    d.append(sum)\n",
    "     \n",
    "width = 0.35\n",
    "p1 = plt.bar(ind, ngmp, width, color='#B50000') \n",
    "p2 = plt.bar(ind, eac, width, bottom=ngmp,color='#000000')  \n",
    "p3 = plt.bar(ind, gd, width, bottom=d,color='#FF9900')\n",
    "\n",
    "plt.legend((p1[0], p2[0], p3[0]), ('New Global Media Players', 'Euro-Atlantic Countries', 'Gulf Donor'),loc = 1)\n",
    "plt.title('Number of news articles per month about COVID-19')\n",
    "plt.show()"
   ]
  },
  {
   "cell_type": "code",
   "execution_count": null,
   "metadata": {},
   "outputs": [],
   "source": []
  }
 ],
 "metadata": {
  "kernelspec": {
   "display_name": "Python 3",
   "language": "python",
   "name": "python3"
  },
  "language_info": {
   "codemirror_mode": {
    "name": "ipython",
    "version": 3
   },
   "file_extension": ".py",
   "mimetype": "text/x-python",
   "name": "python",
   "nbconvert_exporter": "python",
   "pygments_lexer": "ipython3",
   "version": "3.8.3"
  }
 },
 "nbformat": 4,
 "nbformat_minor": 4
}
