{
 "cells": [
  {
   "cell_type": "code",
   "execution_count": 17,
   "metadata": {},
   "outputs": [],
   "source": [
    "import pandas as pd \n",
    "import nltk"
   ]
  },
  {
   "cell_type": "code",
   "execution_count": 11,
   "metadata": {},
   "outputs": [],
   "source": [
    "df = pd.read_csv('covid_cleandf2.csv')"
   ]
  },
  {
   "cell_type": "code",
   "execution_count": 12,
   "metadata": {},
   "outputs": [],
   "source": [
    "text = []\n",
    "for row in range(0, len(df.index)):\n",
    "    text.append(''.join(str(x) for x in df.iloc[row, 6]))"
   ]
  },
  {
   "cell_type": "code",
   "execution_count": 13,
   "metadata": {},
   "outputs": [],
   "source": [
    "text =  \" \".join(text)"
   ]
  },
  {
   "cell_type": "code",
   "execution_count": 15,
   "metadata": {},
   "outputs": [],
   "source": [
    "wordlist = text.split()"
   ]
  },
  {
   "cell_type": "code",
   "execution_count": 19,
   "metadata": {},
   "outputs": [],
   "source": [
    "fdist=nltk.FreqDist([w.lower() for w in wordlist]) "
   ]
  },
  {
   "cell_type": "code",
   "execution_count": 24,
   "metadata": {},
   "outputs": [],
   "source": [
    "tokens = ['humanitarian', 'humanitarianism', 'covid', 'coronavirus', 'covid19', 'virus','vaccine','medical','mask','aid','isolation','quarantine']"
   ]
  },
  {
   "cell_type": "code",
   "execution_count": 25,
   "metadata": {},
   "outputs": [
    {
     "name": "stdout",
     "output_type": "stream",
     "text": [
      "The word frequency of humanitarian is: 23381\n",
      "The word frequency of humanitarianism is: 150\n",
      "The word frequency of covid is: 2563\n",
      "The word frequency of coronavirus is: 94055\n",
      "The word frequency of covid19 is: 51679\n",
      "The word frequency of virus is: 39982\n",
      "The word frequency of vaccine is: 5842\n",
      "The word frequency of medical is: 23051\n",
      "The word frequency of mask is: 3827\n",
      "The word frequency of aid is: 15483\n",
      "The word frequency of isolation is: 2749\n",
      "The word frequency of quarantine is: 8903\n"
     ]
    }
   ],
   "source": [
    "for t in tokens:\n",
    "    frequency = fdist[t]\n",
    "    print('The word frequency of',t,'is:',frequency)"
   ]
  },
  {
   "cell_type": "markdown",
   "metadata": {},
   "source": [
    "# Data of Word Cloud"
   ]
  },
  {
   "cell_type": "code",
   "execution_count": null,
   "metadata": {},
   "outputs": [],
   "source": [
    "var data = [\n",
    "    {\"x\": \"humanitarian\", \"value\": 23381, category: \"humanitarian\"},\n",
    "    {\"x\": \"humanitarianism\", \"value\": 150, category: \"humanitarian\"},\n",
    "    {\"x\": \"covid\", \"value\": 2563, category: \"covid\"},\n",
    "    {\"x\": \"coronavirus\", \"value\": 94055, category: \"covid\"},\n",
    "    {\"x\": \"covid19\", \"value\": 51679, category: \"covid\"},\n",
    "    {\"x\": \"virus\", \"value\": 39982, category: \"covid\"},\n",
    "    {\"x\": \"vaccine\", \"value\": 5842, category: \"support\"},\n",
    "    {\"x\": \"medical\", \"value\": 23051, category: \"support\"},\n",
    "    {\"x\": \"mask\", \"value\": 3827, category: \"support\"},\n",
    "    {\"x\": \"aid\", \"value\": 15483, category: \"support\"},\n",
    "    {\"x\": \"isolation\", \"value\": 2749, category: \"measure\"},\n",
    "    {\"x\": \"quarantine\", \"value\": 8903, category: \"measure\"}\n",
    "  ];"
   ]
  },
  {
   "cell_type": "code",
   "execution_count": null,
   "metadata": {},
   "outputs": [],
   "source": []
  }
 ],
 "metadata": {
  "kernelspec": {
   "display_name": "Python 3",
   "language": "python",
   "name": "python3"
  },
  "language_info": {
   "codemirror_mode": {
    "name": "ipython",
    "version": 3
   },
   "file_extension": ".py",
   "mimetype": "text/x-python",
   "name": "python",
   "nbconvert_exporter": "python",
   "pygments_lexer": "ipython3",
   "version": "3.8.3"
  }
 },
 "nbformat": 4,
 "nbformat_minor": 4
}
