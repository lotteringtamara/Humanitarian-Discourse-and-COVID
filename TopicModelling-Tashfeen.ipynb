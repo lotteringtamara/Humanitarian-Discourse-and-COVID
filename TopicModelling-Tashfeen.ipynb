{
 "cells": [
  {
   "cell_type": "markdown",
   "metadata": {},
   "source": [
    "# Topic Modelling\n",
    "\n",
    "The aim of this effort is to analyse topics highlighted by different countries in news related to the coronavirus pandemic. We are limited this analysis to a period from Dec 2019 to Aug 2020."
   ]
  },
  {
   "cell_type": "code",
   "execution_count": 19,
   "metadata": {},
   "outputs": [],
   "source": [
    "# Import Libraries\n",
    "\n",
    "# We need NLTK and Gensim for LDA Topic Modelling\n",
    "from nltk import word_tokenize, pos_tag\n",
    "from gensim import matutils, models\n",
    "import gensim\n",
    "import scipy.sparse\n",
    "import os # to access files for cleaning\n",
    "from collections import Counter # to count word occurance\n",
    "import re # Regix to remove punctuation from strings I split\n",
    "from shutil import copyfile # For copying clean files\n",
    "from sklearn.feature_extraction.text import CountVectorizer # For creating document-term matrix & excluding stop words\n",
    "from sklearn.feature_extraction import text # For getting stop words\n",
    "from wordcloud import WordCloud # For creating word clouds\n",
    "from textblob import TextBlob # For sentiment analysis\n",
    "import numpy as np # For dataframe analysis\n",
    "import pandas as pd # For dataframe analysis\n",
    "import matplotlib.pyplot as plt # For graphs\n",
    "import seaborn as sns # For graphs\n",
    "%matplotlib inline"
   ]
  },
  {
   "cell_type": "code",
   "execution_count": 2,
   "metadata": {},
   "outputs": [],
   "source": [
    "yearMonths = ['201912', '202001', '202002', '202003', '202004', '202005', '202006', '202007', '202008']"
   ]
  },
  {
   "cell_type": "markdown",
   "metadata": {},
   "source": [
    "## Using clean dataframe"
   ]
  },
  {
   "cell_type": "code",
   "execution_count": 3,
   "metadata": {},
   "outputs": [],
   "source": [
    "df = pd.read_csv('covid_cleandf.csv')"
   ]
  },
  {
   "cell_type": "code",
   "execution_count": 4,
   "metadata": {},
   "outputs": [
    {
     "data": {
      "text/html": [
       "<div>\n",
       "<style scoped>\n",
       "    .dataframe tbody tr th:only-of-type {\n",
       "        vertical-align: middle;\n",
       "    }\n",
       "\n",
       "    .dataframe tbody tr th {\n",
       "        vertical-align: top;\n",
       "    }\n",
       "\n",
       "    .dataframe thead th {\n",
       "        text-align: right;\n",
       "    }\n",
       "</style>\n",
       "<table border=\"1\" class=\"dataframe\">\n",
       "  <thead>\n",
       "    <tr style=\"text-align: right;\">\n",
       "      <th></th>\n",
       "      <th>name</th>\n",
       "      <th>path</th>\n",
       "      <th>country</th>\n",
       "      <th>network</th>\n",
       "      <th>date</th>\n",
       "      <th>token_freq</th>\n",
       "      <th>text</th>\n",
       "    </tr>\n",
       "  </thead>\n",
       "  <tbody>\n",
       "    <tr>\n",
       "      <th>0</th>\n",
       "      <td>20191204_AE_KhaleejTimes_GDELT75493.txt</td>\n",
       "      <td>Raw text/AEClean/20191204_AE_KhaleejTimes_GDEL...</td>\n",
       "      <td>AE</td>\n",
       "      <td>KhaleejTimes</td>\n",
       "      <td>20191204</td>\n",
       "      <td>16</td>\n",
       "      <td>WKND Inspired Living KT Home Videos Interactiv...</td>\n",
       "    </tr>\n",
       "    <tr>\n",
       "      <th>1</th>\n",
       "      <td>20191214_TR_AnadoluAgency_NEXIS720304.txt</td>\n",
       "      <td>Raw text/TRClean/20191214_TR_AnadoluAgency_NEX...</td>\n",
       "      <td>TR</td>\n",
       "      <td>AnadoluAgency</td>\n",
       "      <td>20191214</td>\n",
       "      <td>4</td>\n",
       "      <td>Virus transmitted to people from wild animals ...</td>\n",
       "    </tr>\n",
       "    <tr>\n",
       "      <th>2</th>\n",
       "      <td>20191218_US_TheNewHumanitarian_GNAPI57383.txt</td>\n",
       "      <td>Raw text/USClean/20191218_US_TheNewHumanitaria...</td>\n",
       "      <td>US</td>\n",
       "      <td>TheNewHumanitarian</td>\n",
       "      <td>20191218</td>\n",
       "      <td>4</td>\n",
       "      <td>The humanitarian sector has a trust problem Th...</td>\n",
       "    </tr>\n",
       "    <tr>\n",
       "      <th>3</th>\n",
       "      <td>20191218_US_USAToday_GNAPI57390.txt</td>\n",
       "      <td>Raw text/USClean/20191218_US_USAToday_GNAPI573...</td>\n",
       "      <td>US</td>\n",
       "      <td>USAToday</td>\n",
       "      <td>20191218</td>\n",
       "      <td>7</td>\n",
       "      <td>Alabama Mobile Researchers from the University...</td>\n",
       "    </tr>\n",
       "    <tr>\n",
       "      <th>4</th>\n",
       "      <td>20191222_AE_KhaleejTimes_GDELT119076.txt</td>\n",
       "      <td>Raw text/AEClean/20191222_AE_KhaleejTimes_GDEL...</td>\n",
       "      <td>AE</td>\n",
       "      <td>KhaleejTimes</td>\n",
       "      <td>20191222</td>\n",
       "      <td>12</td>\n",
       "      <td>WKND Inspired Living KT Home Videos Interactiv...</td>\n",
       "    </tr>\n",
       "    <tr>\n",
       "      <th>...</th>\n",
       "      <td>...</td>\n",
       "      <td>...</td>\n",
       "      <td>...</td>\n",
       "      <td>...</td>\n",
       "      <td>...</td>\n",
       "      <td>...</td>\n",
       "      <td>...</td>\n",
       "    </tr>\n",
       "    <tr>\n",
       "      <th>12825</th>\n",
       "      <td>20200819_KW_KUNA_GDELT162457.txt</td>\n",
       "      <td>Raw text/KWClean/20200819_KW_KUNA_GDELT162457.txt</td>\n",
       "      <td>KW</td>\n",
       "      <td>KUNA</td>\n",
       "      <td>20200819</td>\n",
       "      <td>6</td>\n",
       "      <td>LOC23272027 GMT KUWAIT April 23 KUNA UN Secret...</td>\n",
       "    </tr>\n",
       "    <tr>\n",
       "      <th>12826</th>\n",
       "      <td>20200819_KW_KUNA_GDELT169766.txt</td>\n",
       "      <td>Raw text/KWClean/20200819_KW_KUNA_GDELT169766.txt</td>\n",
       "      <td>KW</td>\n",
       "      <td>KUNA</td>\n",
       "      <td>20200819</td>\n",
       "      <td>3</td>\n",
       "      <td>LOC15121212 GMT ROME April 26 KUNA The Kuwaiti...</td>\n",
       "    </tr>\n",
       "    <tr>\n",
       "      <th>12827</th>\n",
       "      <td>20200819_KW_KUNA_GDELT174322.txt</td>\n",
       "      <td>Raw text/KWClean/20200819_KW_KUNA_GDELT174322.txt</td>\n",
       "      <td>KW</td>\n",
       "      <td>KUNA</td>\n",
       "      <td>20200819</td>\n",
       "      <td>5</td>\n",
       "      <td>LOC02532353 GMT KUWAIT March 6 KUNA The Kuwait...</td>\n",
       "    </tr>\n",
       "    <tr>\n",
       "      <th>12828</th>\n",
       "      <td>20200819_KW_KUNA_GDELT176072.txt</td>\n",
       "      <td>Raw text/KWClean/20200819_KW_KUNA_GDELT176072.txt</td>\n",
       "      <td>KW</td>\n",
       "      <td>KUNA</td>\n",
       "      <td>20200819</td>\n",
       "      <td>6</td>\n",
       "      <td>LOC00002100 GMT NEW YORK March 23 KUNA In an a...</td>\n",
       "    </tr>\n",
       "    <tr>\n",
       "      <th>12829</th>\n",
       "      <td>20200820_GB_DailyMail_NEXIS322648.txt</td>\n",
       "      <td>Raw text/UKClean/20200820_GB_DailyMail_NEXIS32...</td>\n",
       "      <td>UK</td>\n",
       "      <td>DailyMail</td>\n",
       "      <td>20200820</td>\n",
       "      <td>10</td>\n",
       "      <td>19million fewer women used contraceptive servi...</td>\n",
       "    </tr>\n",
       "  </tbody>\n",
       "</table>\n",
       "<p>12830 rows × 7 columns</p>\n",
       "</div>"
      ],
      "text/plain": [
       "                                                name  \\\n",
       "0            20191204_AE_KhaleejTimes_GDELT75493.txt   \n",
       "1          20191214_TR_AnadoluAgency_NEXIS720304.txt   \n",
       "2      20191218_US_TheNewHumanitarian_GNAPI57383.txt   \n",
       "3                20191218_US_USAToday_GNAPI57390.txt   \n",
       "4           20191222_AE_KhaleejTimes_GDELT119076.txt   \n",
       "...                                              ...   \n",
       "12825               20200819_KW_KUNA_GDELT162457.txt   \n",
       "12826               20200819_KW_KUNA_GDELT169766.txt   \n",
       "12827               20200819_KW_KUNA_GDELT174322.txt   \n",
       "12828               20200819_KW_KUNA_GDELT176072.txt   \n",
       "12829          20200820_GB_DailyMail_NEXIS322648.txt   \n",
       "\n",
       "                                                    path country  \\\n",
       "0      Raw text/AEClean/20191204_AE_KhaleejTimes_GDEL...      AE   \n",
       "1      Raw text/TRClean/20191214_TR_AnadoluAgency_NEX...      TR   \n",
       "2      Raw text/USClean/20191218_US_TheNewHumanitaria...      US   \n",
       "3      Raw text/USClean/20191218_US_USAToday_GNAPI573...      US   \n",
       "4      Raw text/AEClean/20191222_AE_KhaleejTimes_GDEL...      AE   \n",
       "...                                                  ...     ...   \n",
       "12825  Raw text/KWClean/20200819_KW_KUNA_GDELT162457.txt      KW   \n",
       "12826  Raw text/KWClean/20200819_KW_KUNA_GDELT169766.txt      KW   \n",
       "12827  Raw text/KWClean/20200819_KW_KUNA_GDELT174322.txt      KW   \n",
       "12828  Raw text/KWClean/20200819_KW_KUNA_GDELT176072.txt      KW   \n",
       "12829  Raw text/UKClean/20200820_GB_DailyMail_NEXIS32...      UK   \n",
       "\n",
       "                  network      date  token_freq  \\\n",
       "0            KhaleejTimes  20191204          16   \n",
       "1           AnadoluAgency  20191214           4   \n",
       "2      TheNewHumanitarian  20191218           4   \n",
       "3                USAToday  20191218           7   \n",
       "4            KhaleejTimes  20191222          12   \n",
       "...                   ...       ...         ...   \n",
       "12825                KUNA  20200819           6   \n",
       "12826                KUNA  20200819           3   \n",
       "12827                KUNA  20200819           5   \n",
       "12828                KUNA  20200819           6   \n",
       "12829           DailyMail  20200820          10   \n",
       "\n",
       "                                                    text  \n",
       "0      WKND Inspired Living KT Home Videos Interactiv...  \n",
       "1      Virus transmitted to people from wild animals ...  \n",
       "2      The humanitarian sector has a trust problem Th...  \n",
       "3      Alabama Mobile Researchers from the University...  \n",
       "4      WKND Inspired Living KT Home Videos Interactiv...  \n",
       "...                                                  ...  \n",
       "12825  LOC23272027 GMT KUWAIT April 23 KUNA UN Secret...  \n",
       "12826  LOC15121212 GMT ROME April 26 KUNA The Kuwaiti...  \n",
       "12827  LOC02532353 GMT KUWAIT March 6 KUNA The Kuwait...  \n",
       "12828  LOC00002100 GMT NEW YORK March 23 KUNA In an a...  \n",
       "12829  19million fewer women used contraceptive servi...  \n",
       "\n",
       "[12830 rows x 7 columns]"
      ]
     },
     "execution_count": 4,
     "metadata": {},
     "output_type": "execute_result"
    }
   ],
   "source": [
    "df"
   ]
  },
  {
   "cell_type": "markdown",
   "metadata": {},
   "source": [
    "## Functions\n",
    "\n",
    "Defining required funtion at the top so they can be called multiple times later, whenever needed."
   ]
  },
  {
   "cell_type": "code",
   "execution_count": 7,
   "metadata": {},
   "outputs": [],
   "source": [
    "def cleanTextInDf(mystring):\n",
    "    mystring = mystring.lower() # Text normalization: make string lowercase\n",
    "    mystring = re.sub(r'[^\\w\\s]','', mystring) # Text normalization: remove punctuation\n",
    "    return mystring"
   ]
  },
  {
   "cell_type": "code",
   "execution_count": 8,
   "metadata": {},
   "outputs": [],
   "source": [
    "def checkYearMonth(row):\n",
    "    value = row['date']\n",
    "    return str(value)[0:6]"
   ]
  },
  {
   "cell_type": "code",
   "execution_count": 9,
   "metadata": {},
   "outputs": [],
   "source": [
    "def combinedTextForCountryDf(country):\n",
    "    index = 0\n",
    "    dfCountryYrList = []\n",
    "    for ym in yearMonths:\n",
    "        combinedText = ' '.join(df[(df['yearmonth'] == ym) & (df['country'] == country)].text)\n",
    "        dictCountryYr = {'country': country, 'yearmonth': ym, 'text': combinedText}\n",
    "        dfCountryYrList.append(dictCountryYr)\n",
    "    return dfCountryYrList"
   ]
  },
  {
   "cell_type": "code",
   "execution_count": 10,
   "metadata": {},
   "outputs": [],
   "source": [
    "# Filter nouns and adjectives\n",
    "def partsOfSpeechFilter(text):\n",
    "    isNounAdj = lambda pos: pos[:2] == 'NN' or pos[:2] == 'JJ'\n",
    "    tokenized = word_tokenize(text)\n",
    "    nounsAdj = [word for (word, pos) in pos_tag(tokenized) if isNounAdj(pos)] \n",
    "    return ' '.join(nounsAdj)"
   ]
  },
  {
   "cell_type": "code",
   "execution_count": 17,
   "metadata": {},
   "outputs": [],
   "source": [
    "def countryTopicsOverTime(country):\n",
    "    countryYrList = combinedTextForCountryDf(country) # This function combines text and returns a list\n",
    "    countryYrDf = pd.DataFrame(countryYrList) # convert list to dataframe\n",
    "    dfna = pd.DataFrame(countryYrDf.text.apply(partsOfSpeechFilter))\n",
    "    dfna['ym'] = yearMonths\n",
    "    dfna.set_index('ym', inplace=True, drop=True)\n",
    "    vectorizerNA = CountVectorizer(stop_words='english')\n",
    "    dataVectorizerNA = vectorizerNA.fit_transform(dfna.text)\n",
    "    dataDtmNA = pd.DataFrame(dataVectorizerNA.toarray(), columns = vectorizerNA.get_feature_names())\n",
    "    dataDtmNA.index = dfna.index\n",
    "    corpusNA = matutils.Sparse2Corpus(scipy.sparse.csr_matrix(dataDtmNA.transpose()))\n",
    "    id2wordNA = dict((v, k) for k, v in vectorizerNA.vocabulary_.items())\n",
    "    ldaNA = models.LdaModel(corpus=corpusNA, num_topics=5, id2word=id2wordNA, passes=80)\n",
    "    return [ldaNA.print_topics(), ldaNA, corpusNA]"
   ]
  },
  {
   "cell_type": "code",
   "execution_count": 12,
   "metadata": {},
   "outputs": [
    {
     "data": {
      "text/html": [
       "<div>\n",
       "<style scoped>\n",
       "    .dataframe tbody tr th:only-of-type {\n",
       "        vertical-align: middle;\n",
       "    }\n",
       "\n",
       "    .dataframe tbody tr th {\n",
       "        vertical-align: top;\n",
       "    }\n",
       "\n",
       "    .dataframe thead th {\n",
       "        text-align: right;\n",
       "    }\n",
       "</style>\n",
       "<table border=\"1\" class=\"dataframe\">\n",
       "  <thead>\n",
       "    <tr style=\"text-align: right;\">\n",
       "      <th></th>\n",
       "      <th>name</th>\n",
       "      <th>path</th>\n",
       "      <th>country</th>\n",
       "      <th>network</th>\n",
       "      <th>date</th>\n",
       "      <th>token_freq</th>\n",
       "      <th>text</th>\n",
       "      <th>yearmonth</th>\n",
       "    </tr>\n",
       "  </thead>\n",
       "  <tbody>\n",
       "    <tr>\n",
       "      <th>0</th>\n",
       "      <td>20191204_AE_KhaleejTimes_GDELT75493.txt</td>\n",
       "      <td>Raw text/AEClean/20191204_AE_KhaleejTimes_GDEL...</td>\n",
       "      <td>AE</td>\n",
       "      <td>KhaleejTimes</td>\n",
       "      <td>20191204</td>\n",
       "      <td>16</td>\n",
       "      <td>wknd inspired living kt home videos interactiv...</td>\n",
       "      <td>201912</td>\n",
       "    </tr>\n",
       "    <tr>\n",
       "      <th>1</th>\n",
       "      <td>20191214_TR_AnadoluAgency_NEXIS720304.txt</td>\n",
       "      <td>Raw text/TRClean/20191214_TR_AnadoluAgency_NEX...</td>\n",
       "      <td>TR</td>\n",
       "      <td>AnadoluAgency</td>\n",
       "      <td>20191214</td>\n",
       "      <td>4</td>\n",
       "      <td>virus transmitted to people from wild animals ...</td>\n",
       "      <td>201912</td>\n",
       "    </tr>\n",
       "    <tr>\n",
       "      <th>2</th>\n",
       "      <td>20191218_US_TheNewHumanitarian_GNAPI57383.txt</td>\n",
       "      <td>Raw text/USClean/20191218_US_TheNewHumanitaria...</td>\n",
       "      <td>US</td>\n",
       "      <td>TheNewHumanitarian</td>\n",
       "      <td>20191218</td>\n",
       "      <td>4</td>\n",
       "      <td>the humanitarian sector has a trust problem th...</td>\n",
       "      <td>201912</td>\n",
       "    </tr>\n",
       "    <tr>\n",
       "      <th>3</th>\n",
       "      <td>20191218_US_USAToday_GNAPI57390.txt</td>\n",
       "      <td>Raw text/USClean/20191218_US_USAToday_GNAPI573...</td>\n",
       "      <td>US</td>\n",
       "      <td>USAToday</td>\n",
       "      <td>20191218</td>\n",
       "      <td>7</td>\n",
       "      <td>alabama mobile researchers from the university...</td>\n",
       "      <td>201912</td>\n",
       "    </tr>\n",
       "    <tr>\n",
       "      <th>4</th>\n",
       "      <td>20191222_AE_KhaleejTimes_GDELT119076.txt</td>\n",
       "      <td>Raw text/AEClean/20191222_AE_KhaleejTimes_GDEL...</td>\n",
       "      <td>AE</td>\n",
       "      <td>KhaleejTimes</td>\n",
       "      <td>20191222</td>\n",
       "      <td>12</td>\n",
       "      <td>wknd inspired living kt home videos interactiv...</td>\n",
       "      <td>201912</td>\n",
       "    </tr>\n",
       "    <tr>\n",
       "      <th>...</th>\n",
       "      <td>...</td>\n",
       "      <td>...</td>\n",
       "      <td>...</td>\n",
       "      <td>...</td>\n",
       "      <td>...</td>\n",
       "      <td>...</td>\n",
       "      <td>...</td>\n",
       "      <td>...</td>\n",
       "    </tr>\n",
       "    <tr>\n",
       "      <th>12825</th>\n",
       "      <td>20200819_KW_KUNA_GDELT162457.txt</td>\n",
       "      <td>Raw text/KWClean/20200819_KW_KUNA_GDELT162457.txt</td>\n",
       "      <td>KW</td>\n",
       "      <td>KUNA</td>\n",
       "      <td>20200819</td>\n",
       "      <td>6</td>\n",
       "      <td>loc23272027 gmt kuwait april 23 kuna un secret...</td>\n",
       "      <td>202008</td>\n",
       "    </tr>\n",
       "    <tr>\n",
       "      <th>12826</th>\n",
       "      <td>20200819_KW_KUNA_GDELT169766.txt</td>\n",
       "      <td>Raw text/KWClean/20200819_KW_KUNA_GDELT169766.txt</td>\n",
       "      <td>KW</td>\n",
       "      <td>KUNA</td>\n",
       "      <td>20200819</td>\n",
       "      <td>3</td>\n",
       "      <td>loc15121212 gmt rome april 26 kuna the kuwaiti...</td>\n",
       "      <td>202008</td>\n",
       "    </tr>\n",
       "    <tr>\n",
       "      <th>12827</th>\n",
       "      <td>20200819_KW_KUNA_GDELT174322.txt</td>\n",
       "      <td>Raw text/KWClean/20200819_KW_KUNA_GDELT174322.txt</td>\n",
       "      <td>KW</td>\n",
       "      <td>KUNA</td>\n",
       "      <td>20200819</td>\n",
       "      <td>5</td>\n",
       "      <td>loc02532353 gmt kuwait march 6 kuna the kuwait...</td>\n",
       "      <td>202008</td>\n",
       "    </tr>\n",
       "    <tr>\n",
       "      <th>12828</th>\n",
       "      <td>20200819_KW_KUNA_GDELT176072.txt</td>\n",
       "      <td>Raw text/KWClean/20200819_KW_KUNA_GDELT176072.txt</td>\n",
       "      <td>KW</td>\n",
       "      <td>KUNA</td>\n",
       "      <td>20200819</td>\n",
       "      <td>6</td>\n",
       "      <td>loc00002100 gmt new york march 23 kuna in an a...</td>\n",
       "      <td>202008</td>\n",
       "    </tr>\n",
       "    <tr>\n",
       "      <th>12829</th>\n",
       "      <td>20200820_GB_DailyMail_NEXIS322648.txt</td>\n",
       "      <td>Raw text/UKClean/20200820_GB_DailyMail_NEXIS32...</td>\n",
       "      <td>UK</td>\n",
       "      <td>DailyMail</td>\n",
       "      <td>20200820</td>\n",
       "      <td>10</td>\n",
       "      <td>19million fewer women used contraceptive servi...</td>\n",
       "      <td>202008</td>\n",
       "    </tr>\n",
       "  </tbody>\n",
       "</table>\n",
       "<p>12830 rows × 8 columns</p>\n",
       "</div>"
      ],
      "text/plain": [
       "                                                name  \\\n",
       "0            20191204_AE_KhaleejTimes_GDELT75493.txt   \n",
       "1          20191214_TR_AnadoluAgency_NEXIS720304.txt   \n",
       "2      20191218_US_TheNewHumanitarian_GNAPI57383.txt   \n",
       "3                20191218_US_USAToday_GNAPI57390.txt   \n",
       "4           20191222_AE_KhaleejTimes_GDELT119076.txt   \n",
       "...                                              ...   \n",
       "12825               20200819_KW_KUNA_GDELT162457.txt   \n",
       "12826               20200819_KW_KUNA_GDELT169766.txt   \n",
       "12827               20200819_KW_KUNA_GDELT174322.txt   \n",
       "12828               20200819_KW_KUNA_GDELT176072.txt   \n",
       "12829          20200820_GB_DailyMail_NEXIS322648.txt   \n",
       "\n",
       "                                                    path country  \\\n",
       "0      Raw text/AEClean/20191204_AE_KhaleejTimes_GDEL...      AE   \n",
       "1      Raw text/TRClean/20191214_TR_AnadoluAgency_NEX...      TR   \n",
       "2      Raw text/USClean/20191218_US_TheNewHumanitaria...      US   \n",
       "3      Raw text/USClean/20191218_US_USAToday_GNAPI573...      US   \n",
       "4      Raw text/AEClean/20191222_AE_KhaleejTimes_GDEL...      AE   \n",
       "...                                                  ...     ...   \n",
       "12825  Raw text/KWClean/20200819_KW_KUNA_GDELT162457.txt      KW   \n",
       "12826  Raw text/KWClean/20200819_KW_KUNA_GDELT169766.txt      KW   \n",
       "12827  Raw text/KWClean/20200819_KW_KUNA_GDELT174322.txt      KW   \n",
       "12828  Raw text/KWClean/20200819_KW_KUNA_GDELT176072.txt      KW   \n",
       "12829  Raw text/UKClean/20200820_GB_DailyMail_NEXIS32...      UK   \n",
       "\n",
       "                  network      date  token_freq  \\\n",
       "0            KhaleejTimes  20191204          16   \n",
       "1           AnadoluAgency  20191214           4   \n",
       "2      TheNewHumanitarian  20191218           4   \n",
       "3                USAToday  20191218           7   \n",
       "4            KhaleejTimes  20191222          12   \n",
       "...                   ...       ...         ...   \n",
       "12825                KUNA  20200819           6   \n",
       "12826                KUNA  20200819           3   \n",
       "12827                KUNA  20200819           5   \n",
       "12828                KUNA  20200819           6   \n",
       "12829           DailyMail  20200820          10   \n",
       "\n",
       "                                                    text yearmonth  \n",
       "0      wknd inspired living kt home videos interactiv...    201912  \n",
       "1      virus transmitted to people from wild animals ...    201912  \n",
       "2      the humanitarian sector has a trust problem th...    201912  \n",
       "3      alabama mobile researchers from the university...    201912  \n",
       "4      wknd inspired living kt home videos interactiv...    201912  \n",
       "...                                                  ...       ...  \n",
       "12825  loc23272027 gmt kuwait april 23 kuna un secret...    202008  \n",
       "12826  loc15121212 gmt rome april 26 kuna the kuwaiti...    202008  \n",
       "12827  loc02532353 gmt kuwait march 6 kuna the kuwait...    202008  \n",
       "12828  loc00002100 gmt new york march 23 kuna in an a...    202008  \n",
       "12829  19million fewer women used contraceptive servi...    202008  \n",
       "\n",
       "[12830 rows x 8 columns]"
      ]
     },
     "execution_count": 12,
     "metadata": {},
     "output_type": "execute_result"
    }
   ],
   "source": [
    "# Cleaning the dataframe\n",
    "cleanText = lambda text: cleanTextInDf(text) # Lambda function applies to all cells in a column\n",
    "cleandf = pd.DataFrame(df.text.apply(cleanText)) # .apply() the function to all cells\n",
    "df['text'] = cleandf['text']\n",
    "df['yearmonth'] = df.apply(checkYearMonth, axis=1)\n",
    "df"
   ]
  },
  {
   "cell_type": "markdown",
   "metadata": {},
   "source": [
    "## Topics for UAE\n",
    "\n",
    "Running the first model for UAE, I'll do the same for the rest of the countries to get an idea of the topics."
   ]
  },
  {
   "cell_type": "code",
   "execution_count": 13,
   "metadata": {},
   "outputs": [
    {
     "data": {
      "text/html": [
       "<div>\n",
       "<style scoped>\n",
       "    .dataframe tbody tr th:only-of-type {\n",
       "        vertical-align: middle;\n",
       "    }\n",
       "\n",
       "    .dataframe tbody tr th {\n",
       "        vertical-align: top;\n",
       "    }\n",
       "\n",
       "    .dataframe thead th {\n",
       "        text-align: right;\n",
       "    }\n",
       "</style>\n",
       "<table border=\"1\" class=\"dataframe\">\n",
       "  <thead>\n",
       "    <tr style=\"text-align: right;\">\n",
       "      <th></th>\n",
       "      <th>country</th>\n",
       "      <th>yearmonth</th>\n",
       "      <th>text</th>\n",
       "    </tr>\n",
       "  </thead>\n",
       "  <tbody>\n",
       "    <tr>\n",
       "      <th>0</th>\n",
       "      <td>AE</td>\n",
       "      <td>201912</td>\n",
       "      <td>wknd inspired living kt home videos interactiv...</td>\n",
       "    </tr>\n",
       "    <tr>\n",
       "      <th>1</th>\n",
       "      <td>AE</td>\n",
       "      <td>202001</td>\n",
       "      <td>wknd inspired living kt home videos interactiv...</td>\n",
       "    </tr>\n",
       "    <tr>\n",
       "      <th>2</th>\n",
       "      <td>AE</td>\n",
       "      <td>202002</td>\n",
       "      <td>wknd inspired living kt home videos interactiv...</td>\n",
       "    </tr>\n",
       "    <tr>\n",
       "      <th>3</th>\n",
       "      <td>AE</td>\n",
       "      <td>202003</td>\n",
       "      <td>international experts are questioning the scal...</td>\n",
       "    </tr>\n",
       "    <tr>\n",
       "      <th>4</th>\n",
       "      <td>AE</td>\n",
       "      <td>202004</td>\n",
       "      <td>over 50 deaths have been reported in iraq maki...</td>\n",
       "    </tr>\n",
       "    <tr>\n",
       "      <th>5</th>\n",
       "      <td>AE</td>\n",
       "      <td>202005</td>\n",
       "      <td>hamas has reportedly allowed medical teams fro...</td>\n",
       "    </tr>\n",
       "    <tr>\n",
       "      <th>6</th>\n",
       "      <td>AE</td>\n",
       "      <td>202006</td>\n",
       "      <td>uk pledges 160m in yemen aid before donor conf...</td>\n",
       "    </tr>\n",
       "    <tr>\n",
       "      <th>7</th>\n",
       "      <td>AE</td>\n",
       "      <td>202007</td>\n",
       "      <td>dubai 30th june 2020 wam as part of its keenne...</td>\n",
       "    </tr>\n",
       "    <tr>\n",
       "      <th>8</th>\n",
       "      <td>AE</td>\n",
       "      <td>202008</td>\n",
       "      <td>dubai 2nd august 2020 wam nasser bin thani al ...</td>\n",
       "    </tr>\n",
       "  </tbody>\n",
       "</table>\n",
       "</div>"
      ],
      "text/plain": [
       "  country yearmonth                                               text\n",
       "0      AE    201912  wknd inspired living kt home videos interactiv...\n",
       "1      AE    202001  wknd inspired living kt home videos interactiv...\n",
       "2      AE    202002  wknd inspired living kt home videos interactiv...\n",
       "3      AE    202003  international experts are questioning the scal...\n",
       "4      AE    202004  over 50 deaths have been reported in iraq maki...\n",
       "5      AE    202005  hamas has reportedly allowed medical teams fro...\n",
       "6      AE    202006  uk pledges 160m in yemen aid before donor conf...\n",
       "7      AE    202007  dubai 30th june 2020 wam as part of its keenne...\n",
       "8      AE    202008  dubai 2nd august 2020 wam nasser bin thani al ..."
      ]
     },
     "execution_count": 13,
     "metadata": {},
     "output_type": "execute_result"
    }
   ],
   "source": [
    "# Get dataframe for UAE\n",
    "\n",
    "countryYrList = combinedTextForCountryDf('AE') # This function combines text and returns a list\n",
    "countryYrDf = pd.DataFrame(countryYrList) # convert list to dataframe\n",
    "countryYrDf # Show the data frame"
   ]
  },
  {
   "cell_type": "code",
   "execution_count": 14,
   "metadata": {},
   "outputs": [
    {
     "data": {
      "text/html": [
       "<div>\n",
       "<style scoped>\n",
       "    .dataframe tbody tr th:only-of-type {\n",
       "        vertical-align: middle;\n",
       "    }\n",
       "\n",
       "    .dataframe tbody tr th {\n",
       "        vertical-align: top;\n",
       "    }\n",
       "\n",
       "    .dataframe thead th {\n",
       "        text-align: right;\n",
       "    }\n",
       "</style>\n",
       "<table border=\"1\" class=\"dataframe\">\n",
       "  <thead>\n",
       "    <tr style=\"text-align: right;\">\n",
       "      <th></th>\n",
       "      <th>text</th>\n",
       "    </tr>\n",
       "  </thead>\n",
       "  <tbody>\n",
       "    <tr>\n",
       "      <th>0</th>\n",
       "      <td>wknd living kt home videos kt podcast mars mis...</td>\n",
       "    </tr>\n",
       "    <tr>\n",
       "      <th>1</th>\n",
       "      <td>wknd living kt home videos kt podcast mars mis...</td>\n",
       "    </tr>\n",
       "    <tr>\n",
       "      <th>2</th>\n",
       "      <td>wknd living kt home videos kt podcast mars mis...</td>\n",
       "    </tr>\n",
       "    <tr>\n",
       "      <th>3</th>\n",
       "      <td>international experts scale new coronavirus ep...</td>\n",
       "    </tr>\n",
       "    <tr>\n",
       "      <th>4</th>\n",
       "      <td>deaths iraq worstaffected countries region wom...</td>\n",
       "    </tr>\n",
       "    <tr>\n",
       "      <th>5</th>\n",
       "      <td>hamas medical teams gaza coronavirusrelated tr...</td>\n",
       "    </tr>\n",
       "    <tr>\n",
       "      <th>6</th>\n",
       "      <td>uk pledges yemen aid donor conference un saudi...</td>\n",
       "    </tr>\n",
       "    <tr>\n",
       "      <th>7</th>\n",
       "      <td>dubai june wam part keenness communal solidari...</td>\n",
       "    </tr>\n",
       "    <tr>\n",
       "      <th>8</th>\n",
       "      <td>dubai august wam bin thani hamli minister huma...</td>\n",
       "    </tr>\n",
       "  </tbody>\n",
       "</table>\n",
       "</div>"
      ],
      "text/plain": [
       "                                                text\n",
       "0  wknd living kt home videos kt podcast mars mis...\n",
       "1  wknd living kt home videos kt podcast mars mis...\n",
       "2  wknd living kt home videos kt podcast mars mis...\n",
       "3  international experts scale new coronavirus ep...\n",
       "4  deaths iraq worstaffected countries region wom...\n",
       "5  hamas medical teams gaza coronavirusrelated tr...\n",
       "6  uk pledges yemen aid donor conference un saudi...\n",
       "7  dubai june wam part keenness communal solidari...\n",
       "8  dubai august wam bin thani hamli minister huma..."
      ]
     },
     "execution_count": 14,
     "metadata": {},
     "output_type": "execute_result"
    }
   ],
   "source": [
    "# Apply parts of speech filter to filter out nouns and adjectives\n",
    "\n",
    "dfna = pd.DataFrame(countryYrDf.text.apply(partsOfSpeechFilter))\n",
    "dfna"
   ]
  },
  {
   "cell_type": "code",
   "execution_count": 15,
   "metadata": {},
   "outputs": [
    {
     "data": {
      "text/html": [
       "<div>\n",
       "<style scoped>\n",
       "    .dataframe tbody tr th:only-of-type {\n",
       "        vertical-align: middle;\n",
       "    }\n",
       "\n",
       "    .dataframe tbody tr th {\n",
       "        vertical-align: top;\n",
       "    }\n",
       "\n",
       "    .dataframe thead th {\n",
       "        text-align: right;\n",
       "    }\n",
       "</style>\n",
       "<table border=\"1\" class=\"dataframe\">\n",
       "  <thead>\n",
       "    <tr style=\"text-align: right;\">\n",
       "      <th></th>\n",
       "      <th>text</th>\n",
       "    </tr>\n",
       "    <tr>\n",
       "      <th>ym</th>\n",
       "      <th></th>\n",
       "    </tr>\n",
       "  </thead>\n",
       "  <tbody>\n",
       "    <tr>\n",
       "      <th>201912</th>\n",
       "      <td>wknd living kt home videos kt podcast mars mis...</td>\n",
       "    </tr>\n",
       "    <tr>\n",
       "      <th>202001</th>\n",
       "      <td>wknd living kt home videos kt podcast mars mis...</td>\n",
       "    </tr>\n",
       "    <tr>\n",
       "      <th>202002</th>\n",
       "      <td>wknd living kt home videos kt podcast mars mis...</td>\n",
       "    </tr>\n",
       "    <tr>\n",
       "      <th>202003</th>\n",
       "      <td>international experts scale new coronavirus ep...</td>\n",
       "    </tr>\n",
       "    <tr>\n",
       "      <th>202004</th>\n",
       "      <td>deaths iraq worstaffected countries region wom...</td>\n",
       "    </tr>\n",
       "    <tr>\n",
       "      <th>202005</th>\n",
       "      <td>hamas medical teams gaza coronavirusrelated tr...</td>\n",
       "    </tr>\n",
       "    <tr>\n",
       "      <th>202006</th>\n",
       "      <td>uk pledges yemen aid donor conference un saudi...</td>\n",
       "    </tr>\n",
       "    <tr>\n",
       "      <th>202007</th>\n",
       "      <td>dubai june wam part keenness communal solidari...</td>\n",
       "    </tr>\n",
       "    <tr>\n",
       "      <th>202008</th>\n",
       "      <td>dubai august wam bin thani hamli minister huma...</td>\n",
       "    </tr>\n",
       "  </tbody>\n",
       "</table>\n",
       "</div>"
      ],
      "text/plain": [
       "                                                     text\n",
       "ym                                                       \n",
       "201912  wknd living kt home videos kt podcast mars mis...\n",
       "202001  wknd living kt home videos kt podcast mars mis...\n",
       "202002  wknd living kt home videos kt podcast mars mis...\n",
       "202003  international experts scale new coronavirus ep...\n",
       "202004  deaths iraq worstaffected countries region wom...\n",
       "202005  hamas medical teams gaza coronavirusrelated tr...\n",
       "202006  uk pledges yemen aid donor conference un saudi...\n",
       "202007  dubai june wam part keenness communal solidari...\n",
       "202008  dubai august wam bin thani hamli minister huma..."
      ]
     },
     "execution_count": 15,
     "metadata": {},
     "output_type": "execute_result"
    }
   ],
   "source": [
    "# Make YearMonths the Index\n",
    "\n",
    "dfna['ym'] = yearMonths\n",
    "dfna.set_index('ym', inplace=True, drop=True)\n",
    "dfna"
   ]
  },
  {
   "cell_type": "code",
   "execution_count": 16,
   "metadata": {},
   "outputs": [
    {
     "data": {
      "text/html": [
       "<div>\n",
       "<style scoped>\n",
       "    .dataframe tbody tr th:only-of-type {\n",
       "        vertical-align: middle;\n",
       "    }\n",
       "\n",
       "    .dataframe tbody tr th {\n",
       "        vertical-align: top;\n",
       "    }\n",
       "\n",
       "    .dataframe thead th {\n",
       "        text-align: right;\n",
       "    }\n",
       "</style>\n",
       "<table border=\"1\" class=\"dataframe\">\n",
       "  <thead>\n",
       "    <tr style=\"text-align: right;\">\n",
       "      <th></th>\n",
       "      <th>1000kilometrelong</th>\n",
       "      <th>10day</th>\n",
       "      <th>10th</th>\n",
       "      <th>10year</th>\n",
       "      <th>13th</th>\n",
       "      <th>14day</th>\n",
       "      <th>14th</th>\n",
       "      <th>150mile</th>\n",
       "      <th>17th</th>\n",
       "      <th>1900year</th>\n",
       "      <th>...</th>\n",
       "      <th>ومد</th>\n",
       "      <th>ونزاهة</th>\n",
       "      <th>ونقلهم</th>\n",
       "      <th>ووقاية</th>\n",
       "      <th>و١٢</th>\n",
       "      <th>يأمر</th>\n",
       "      <th>يتعب</th>\n",
       "      <th>يد</th>\n",
       "      <th>يعبر</th>\n",
       "      <th>يكل</th>\n",
       "    </tr>\n",
       "    <tr>\n",
       "      <th>ym</th>\n",
       "      <th></th>\n",
       "      <th></th>\n",
       "      <th></th>\n",
       "      <th></th>\n",
       "      <th></th>\n",
       "      <th></th>\n",
       "      <th></th>\n",
       "      <th></th>\n",
       "      <th></th>\n",
       "      <th></th>\n",
       "      <th></th>\n",
       "      <th></th>\n",
       "      <th></th>\n",
       "      <th></th>\n",
       "      <th></th>\n",
       "      <th></th>\n",
       "      <th></th>\n",
       "      <th></th>\n",
       "      <th></th>\n",
       "      <th></th>\n",
       "      <th></th>\n",
       "    </tr>\n",
       "  </thead>\n",
       "  <tbody>\n",
       "    <tr>\n",
       "      <th>201912</th>\n",
       "      <td>0</td>\n",
       "      <td>0</td>\n",
       "      <td>0</td>\n",
       "      <td>0</td>\n",
       "      <td>0</td>\n",
       "      <td>0</td>\n",
       "      <td>0</td>\n",
       "      <td>0</td>\n",
       "      <td>0</td>\n",
       "      <td>0</td>\n",
       "      <td>...</td>\n",
       "      <td>0</td>\n",
       "      <td>0</td>\n",
       "      <td>0</td>\n",
       "      <td>0</td>\n",
       "      <td>0</td>\n",
       "      <td>0</td>\n",
       "      <td>0</td>\n",
       "      <td>0</td>\n",
       "      <td>0</td>\n",
       "      <td>0</td>\n",
       "    </tr>\n",
       "    <tr>\n",
       "      <th>202001</th>\n",
       "      <td>0</td>\n",
       "      <td>0</td>\n",
       "      <td>0</td>\n",
       "      <td>0</td>\n",
       "      <td>0</td>\n",
       "      <td>0</td>\n",
       "      <td>0</td>\n",
       "      <td>1</td>\n",
       "      <td>0</td>\n",
       "      <td>0</td>\n",
       "      <td>...</td>\n",
       "      <td>0</td>\n",
       "      <td>0</td>\n",
       "      <td>0</td>\n",
       "      <td>0</td>\n",
       "      <td>0</td>\n",
       "      <td>0</td>\n",
       "      <td>0</td>\n",
       "      <td>0</td>\n",
       "      <td>0</td>\n",
       "      <td>0</td>\n",
       "    </tr>\n",
       "    <tr>\n",
       "      <th>202002</th>\n",
       "      <td>0</td>\n",
       "      <td>0</td>\n",
       "      <td>0</td>\n",
       "      <td>0</td>\n",
       "      <td>0</td>\n",
       "      <td>0</td>\n",
       "      <td>0</td>\n",
       "      <td>0</td>\n",
       "      <td>0</td>\n",
       "      <td>0</td>\n",
       "      <td>...</td>\n",
       "      <td>0</td>\n",
       "      <td>0</td>\n",
       "      <td>0</td>\n",
       "      <td>0</td>\n",
       "      <td>0</td>\n",
       "      <td>0</td>\n",
       "      <td>0</td>\n",
       "      <td>0</td>\n",
       "      <td>0</td>\n",
       "      <td>0</td>\n",
       "    </tr>\n",
       "    <tr>\n",
       "      <th>202003</th>\n",
       "      <td>0</td>\n",
       "      <td>0</td>\n",
       "      <td>1</td>\n",
       "      <td>0</td>\n",
       "      <td>1</td>\n",
       "      <td>2</td>\n",
       "      <td>0</td>\n",
       "      <td>0</td>\n",
       "      <td>0</td>\n",
       "      <td>0</td>\n",
       "      <td>...</td>\n",
       "      <td>1</td>\n",
       "      <td>0</td>\n",
       "      <td>1</td>\n",
       "      <td>1</td>\n",
       "      <td>0</td>\n",
       "      <td>1</td>\n",
       "      <td>0</td>\n",
       "      <td>1</td>\n",
       "      <td>2</td>\n",
       "      <td>0</td>\n",
       "    </tr>\n",
       "    <tr>\n",
       "      <th>202004</th>\n",
       "      <td>0</td>\n",
       "      <td>1</td>\n",
       "      <td>1</td>\n",
       "      <td>0</td>\n",
       "      <td>0</td>\n",
       "      <td>0</td>\n",
       "      <td>1</td>\n",
       "      <td>0</td>\n",
       "      <td>0</td>\n",
       "      <td>0</td>\n",
       "      <td>...</td>\n",
       "      <td>0</td>\n",
       "      <td>0</td>\n",
       "      <td>0</td>\n",
       "      <td>0</td>\n",
       "      <td>1</td>\n",
       "      <td>0</td>\n",
       "      <td>0</td>\n",
       "      <td>0</td>\n",
       "      <td>0</td>\n",
       "      <td>0</td>\n",
       "    </tr>\n",
       "    <tr>\n",
       "      <th>202005</th>\n",
       "      <td>3</td>\n",
       "      <td>0</td>\n",
       "      <td>0</td>\n",
       "      <td>0</td>\n",
       "      <td>0</td>\n",
       "      <td>0</td>\n",
       "      <td>0</td>\n",
       "      <td>0</td>\n",
       "      <td>1</td>\n",
       "      <td>0</td>\n",
       "      <td>...</td>\n",
       "      <td>0</td>\n",
       "      <td>0</td>\n",
       "      <td>0</td>\n",
       "      <td>0</td>\n",
       "      <td>0</td>\n",
       "      <td>0</td>\n",
       "      <td>0</td>\n",
       "      <td>0</td>\n",
       "      <td>0</td>\n",
       "      <td>0</td>\n",
       "    </tr>\n",
       "    <tr>\n",
       "      <th>202006</th>\n",
       "      <td>0</td>\n",
       "      <td>0</td>\n",
       "      <td>1</td>\n",
       "      <td>1</td>\n",
       "      <td>0</td>\n",
       "      <td>2</td>\n",
       "      <td>0</td>\n",
       "      <td>0</td>\n",
       "      <td>0</td>\n",
       "      <td>0</td>\n",
       "      <td>...</td>\n",
       "      <td>0</td>\n",
       "      <td>1</td>\n",
       "      <td>0</td>\n",
       "      <td>0</td>\n",
       "      <td>0</td>\n",
       "      <td>0</td>\n",
       "      <td>0</td>\n",
       "      <td>0</td>\n",
       "      <td>0</td>\n",
       "      <td>0</td>\n",
       "    </tr>\n",
       "    <tr>\n",
       "      <th>202007</th>\n",
       "      <td>0</td>\n",
       "      <td>0</td>\n",
       "      <td>0</td>\n",
       "      <td>0</td>\n",
       "      <td>0</td>\n",
       "      <td>0</td>\n",
       "      <td>0</td>\n",
       "      <td>0</td>\n",
       "      <td>0</td>\n",
       "      <td>1</td>\n",
       "      <td>...</td>\n",
       "      <td>0</td>\n",
       "      <td>0</td>\n",
       "      <td>0</td>\n",
       "      <td>0</td>\n",
       "      <td>0</td>\n",
       "      <td>0</td>\n",
       "      <td>1</td>\n",
       "      <td>0</td>\n",
       "      <td>0</td>\n",
       "      <td>1</td>\n",
       "    </tr>\n",
       "    <tr>\n",
       "      <th>202008</th>\n",
       "      <td>0</td>\n",
       "      <td>0</td>\n",
       "      <td>0</td>\n",
       "      <td>0</td>\n",
       "      <td>0</td>\n",
       "      <td>0</td>\n",
       "      <td>0</td>\n",
       "      <td>0</td>\n",
       "      <td>0</td>\n",
       "      <td>0</td>\n",
       "      <td>...</td>\n",
       "      <td>0</td>\n",
       "      <td>0</td>\n",
       "      <td>0</td>\n",
       "      <td>0</td>\n",
       "      <td>0</td>\n",
       "      <td>0</td>\n",
       "      <td>0</td>\n",
       "      <td>0</td>\n",
       "      <td>0</td>\n",
       "      <td>0</td>\n",
       "    </tr>\n",
       "  </tbody>\n",
       "</table>\n",
       "<p>9 rows × 18507 columns</p>\n",
       "</div>"
      ],
      "text/plain": [
       "        1000kilometrelong  10day  10th  10year  13th  14day  14th  150mile  \\\n",
       "ym                                                                           \n",
       "201912                  0      0     0       0     0      0     0        0   \n",
       "202001                  0      0     0       0     0      0     0        1   \n",
       "202002                  0      0     0       0     0      0     0        0   \n",
       "202003                  0      0     1       0     1      2     0        0   \n",
       "202004                  0      1     1       0     0      0     1        0   \n",
       "202005                  3      0     0       0     0      0     0        0   \n",
       "202006                  0      0     1       1     0      2     0        0   \n",
       "202007                  0      0     0       0     0      0     0        0   \n",
       "202008                  0      0     0       0     0      0     0        0   \n",
       "\n",
       "        17th  1900year  ...  ومد  ونزاهة  ونقلهم  ووقاية  و١٢  يأمر  يتعب  يد  \\\n",
       "ym                      ...                                                     \n",
       "201912     0         0  ...    0       0       0       0    0     0     0   0   \n",
       "202001     0         0  ...    0       0       0       0    0     0     0   0   \n",
       "202002     0         0  ...    0       0       0       0    0     0     0   0   \n",
       "202003     0         0  ...    1       0       1       1    0     1     0   1   \n",
       "202004     0         0  ...    0       0       0       0    1     0     0   0   \n",
       "202005     1         0  ...    0       0       0       0    0     0     0   0   \n",
       "202006     0         0  ...    0       1       0       0    0     0     0   0   \n",
       "202007     0         1  ...    0       0       0       0    0     0     1   0   \n",
       "202008     0         0  ...    0       0       0       0    0     0     0   0   \n",
       "\n",
       "        يعبر  يكل  \n",
       "ym                 \n",
       "201912     0    0  \n",
       "202001     0    0  \n",
       "202002     0    0  \n",
       "202003     2    0  \n",
       "202004     0    0  \n",
       "202005     0    0  \n",
       "202006     0    0  \n",
       "202007     0    1  \n",
       "202008     0    0  \n",
       "\n",
       "[9 rows x 18507 columns]"
      ]
     },
     "execution_count": 16,
     "metadata": {},
     "output_type": "execute_result"
    }
   ],
   "source": [
    "# Get the document term matrix\n",
    "\n",
    "vectorizerNA = CountVectorizer(stop_words='english')\n",
    "dataVectorizerNA = vectorizerNA.fit_transform(dfna.text)\n",
    "dataDtmNA = pd.DataFrame(dataVectorizerNA.toarray(), columns = vectorizerNA.get_feature_names())\n",
    "dataDtmNA.index = dfna.index\n",
    "dataDtmNA # This is the document term matrix"
   ]
  },
  {
   "cell_type": "code",
   "execution_count": 55,
   "metadata": {},
   "outputs": [],
   "source": [
    "# Map ID to words\n",
    "\n",
    "corpusNA = matutils.Sparse2Corpus(scipy.sparse.csr_matrix(dataDtmNA.transpose()))\n",
    "id2wordNA = dict((v, k) for k, v in vectorizerNA.vocabulary_.items())"
   ]
  },
  {
   "cell_type": "code",
   "execution_count": 90,
   "metadata": {},
   "outputs": [
    {
     "data": {
      "text/plain": [
       "[(0,\n",
       "  '0.015*\"coronavirus\" + 0.014*\"uae\" + 0.011*\"covid19\" + 0.008*\"people\" + 0.008*\"pandemic\" + 0.007*\"al\" + 0.007*\"health\" + 0.007*\"world\" + 0.006*\"humanitarian\" + 0.006*\"dubai\"'),\n",
       " (1,\n",
       "  '0.010*\"august\" + 0.007*\"uae\" + 0.007*\"india\" + 0.006*\"beirut\" + 0.006*\"air\" + 0.005*\"express\" + 0.005*\"kozhikode\" + 0.005*\"flight\" + 0.004*\"covid19\" + 0.004*\"lebanon\"'),\n",
       " (2,\n",
       "  '0.014*\"uae\" + 0.013*\"coronavirus\" + 0.011*\"covid19\" + 0.009*\"pandemic\" + 0.007*\"al\" + 0.007*\"people\" + 0.006*\"humanitarian\" + 0.006*\"world\" + 0.006*\"dubai\" + 0.006*\"health\"'),\n",
       " (3,\n",
       "  '0.018*\"coronavirus\" + 0.011*\"uae\" + 0.009*\"people\" + 0.008*\"health\" + 0.007*\"covid19\" + 0.007*\"humanitarian\" + 0.006*\"iran\" + 0.006*\"world\" + 0.006*\"countries\" + 0.005*\"country\"'),\n",
       " (4,\n",
       "  '0.011*\"august\" + 0.010*\"times\" + 0.010*\"syria\" + 0.008*\"kt\" + 0.007*\"khaleej\" + 0.006*\"dubai\" + 0.006*\"uae\" + 0.006*\"coronavirus\" + 0.006*\"ktinsyria\" + 0.005*\"video\"')]"
      ]
     },
     "execution_count": 90,
     "metadata": {},
     "output_type": "execute_result"
    }
   ],
   "source": [
    "# Run the LDA model\n",
    "\n",
    "ldaNA = models.LdaModel(corpus=corpusNA, num_topics=5, id2word=id2wordNA, passes=80)\n",
    "ldaNA.print_topics()"
   ]
  },
  {
   "cell_type": "markdown",
   "metadata": {},
   "source": [
    "### Topics for UAE:\n",
    "\n",
    "* 0: Coronavirus Pandemic\n",
    "* 1: Beirut/Lebanon in August + Flights/Travel\n",
    "* 2: Coronavirus and Public Health\n",
    "* 3: Coronavirus\n",
    "* 4: Syria + Coronavirus"
   ]
  },
  {
   "cell_type": "code",
   "execution_count": 91,
   "metadata": {},
   "outputs": [
    {
     "name": "stdout",
     "output_type": "stream",
     "text": [
      "[(0, 0.023316061), (2, 0.1404689), (4, 0.83447915)]\n",
      "[(0, 0.011764727), (2, 0.40063396), (3, 0.4995596), (4, 0.08792532)]\n",
      "[(2, 0.99432164)]\n",
      "[(3, 0.99389523)]\n",
      "[(0, 0.998874)]\n",
      "[(0, 0.9935542)]\n",
      "[(2, 0.99228925)]\n",
      "[(2, 0.99600726)]\n",
      "[(0, 0.33353826), (1, 0.43542117), (2, 0.22957814)]\n"
     ]
    }
   ],
   "source": [
    "# Map the topics to months - each row of the list should represent the mapped topic.\n",
    "\n",
    "transformedCorpus = ldaNA[corpusNA]\n",
    "for tc in transformedCorpus:\n",
    "    print(tc)"
   ]
  },
  {
   "cell_type": "markdown",
   "metadata": {},
   "source": [
    "* Dec 2019: Syria + Coronavirus\n",
    "* Jan 2020: Coronavirus and Public Health\n",
    "* Feb 2020: Coronavirus and Public Health\n",
    "* Mar 2020: Coronavirus\n",
    "* Apr 2020: Coronavirus\n",
    "* May 2020: Coronavirus\n",
    "* Jun 2020: Coronavirus and Public Health\n",
    "* Jul 2020: Coronavirus and Public Health\n",
    "* Aug 2020: Beirut/Lebanon in August + Flights/Travel + Coronavirus"
   ]
  },
  {
   "cell_type": "markdown",
   "metadata": {},
   "source": [
    "## Topics for Kuwait\n",
    "\n",
    "I'll run the same analysis for Kuwait"
   ]
  },
  {
   "cell_type": "code",
   "execution_count": 101,
   "metadata": {},
   "outputs": [
    {
     "data": {
      "text/plain": [
       "[(0,\n",
       "  '0.000*\"kuwait\" + 0.000*\"health\" + 0.000*\"international\" + 0.000*\"countries\" + 0.000*\"coronavirus\" + 0.000*\"people\" + 0.000*\"approaches\" + 0.000*\"sake\" + 0.000*\"reflection\" + 0.000*\"enhanced\"'),\n",
       " (1,\n",
       "  '0.000*\"kuwait\" + 0.000*\"people\" + 0.000*\"countries\" + 0.000*\"covid19\" + 0.000*\"health\" + 0.000*\"humanitarian\" + 0.000*\"international\" + 0.000*\"coronavirus\" + 0.000*\"government\" + 0.000*\"global\"'),\n",
       " (2,\n",
       "  '0.000*\"kuwait\" + 0.000*\"humanitarian\" + 0.000*\"international\" + 0.000*\"unresolved\" + 0.000*\"fervent\" + 0.000*\"occupation\" + 0.000*\"solace\" + 0.000*\"feed\" + 0.000*\"corners\" + 0.000*\"akhm\"'),\n",
       " (3,\n",
       "  '0.016*\"kuwait\" + 0.009*\"people\" + 0.009*\"health\" + 0.009*\"coronavirus\" + 0.008*\"countries\" + 0.008*\"covid19\" + 0.007*\"humanitarian\" + 0.007*\"government\" + 0.007*\"international\" + 0.006*\"pandemic\"'),\n",
       " (4,\n",
       "  '0.000*\"kuwait\" + 0.000*\"coronavirus\" + 0.000*\"health\" + 0.000*\"international\" + 0.000*\"humanitarian\" + 0.000*\"covid19\" + 0.000*\"tomorrow\" + 0.000*\"august\" + 0.000*\"relentless\" + 0.000*\"sake\"')]"
      ]
     },
     "execution_count": 101,
     "metadata": {},
     "output_type": "execute_result"
    }
   ],
   "source": [
    "kuwaitModel = countryTopicsOverTime('KW')\n",
    "kuwaitModel[0]"
   ]
  },
  {
   "cell_type": "markdown",
   "metadata": {},
   "source": [
    "### Topics for Kuwait:\n",
    "\n",
    "* 0: Coronavirus and Public Health\n",
    "* 1: Coronavirus and Public Health\n",
    "* 2: Humanitarian efforts\n",
    "* 3: Public Health and Safety + International efforts\n",
    "* 4: Humanitarian efforts + Coronavirus"
   ]
  },
  {
   "cell_type": "code",
   "execution_count": 102,
   "metadata": {},
   "outputs": [
    {
     "name": "stdout",
     "output_type": "stream",
     "text": [
      "[(0, 0.2), (1, 0.2), (2, 0.2), (3, 0.2), (4, 0.2)]\n",
      "[(0, 0.2), (1, 0.2), (2, 0.2), (3, 0.2), (4, 0.2)]\n",
      "[(0, 0.2), (1, 0.2), (2, 0.2), (3, 0.2), (4, 0.2)]\n",
      "[(3, 0.999816)]\n",
      "[(3, 0.9997828)]\n",
      "[(3, 0.99979717)]\n",
      "[(3, 0.9994398)]\n",
      "[(3, 0.99963075)]\n",
      "[(3, 0.999075)]\n"
     ]
    }
   ],
   "source": [
    "ldaNA = kuwaitModel[1]\n",
    "corpusNA = kuwaitModel[2]\n",
    "transformedCorpus = ldaNA[corpusNA]\n",
    "for tc in transformedCorpus:\n",
    "    print(tc)"
   ]
  },
  {
   "cell_type": "markdown",
   "metadata": {},
   "source": [
    "* Dec 2019: Coronavirus and Public Health + Humanitarian Efforts\n",
    "* Jan 2020: Coronavirus and Public Health + Humanitarian Efforts\n",
    "* Feb 2020: Coronavirus and Public Health + Humanitarian Efforts\n",
    "* Mar 2020: Coronavirus and Public Health + Humanitarian Efforts\n",
    "* Apr 2020: Coronavirus and Public Health + Humanitarian Efforts\n",
    "* May 2020: Coronavirus and Public Health + Humanitarian Efforts\n",
    "* Jun 2020: Coronavirus and Public Health + Humanitarian Efforts\n",
    "* Jul 2020: Coronavirus and Public Health + Humanitarian Efforts\n",
    "* Aug 2020: Coronavirus and Public Health + Humanitarian Efforts"
   ]
  },
  {
   "cell_type": "markdown",
   "metadata": {},
   "source": [
    "## Topics for Turkey\n",
    "\n",
    "I'll run the same analysis for Turkey"
   ]
  },
  {
   "cell_type": "code",
   "execution_count": 103,
   "metadata": {},
   "outputs": [
    {
     "data": {
      "text/plain": [
       "[(0,\n",
       "  '0.013*\"coronavirus\" + 0.011*\"cases\" + 0.011*\"people\" + 0.010*\"health\" + 0.009*\"virus\" + 0.009*\"country\" + 0.008*\"covid19\" + 0.008*\"new\" + 0.008*\"world\" + 0.008*\"countries\"'),\n",
       " (1,\n",
       "  '0.000*\"pandemic\" + 0.000*\"coronavirus\" + 0.000*\"countries\" + 0.000*\"cases\" + 0.000*\"covid19\" + 0.000*\"people\" + 0.000*\"turkey\" + 0.000*\"health\" + 0.000*\"country\" + 0.000*\"world\"'),\n",
       " (2,\n",
       "  '0.009*\"economic\" + 0.007*\"covid19\" + 0.006*\"beirut\" + 0.006*\"region\" + 0.006*\"lebanon\" + 0.006*\"turkey\" + 0.005*\"thursday\" + 0.005*\"pandemic\" + 0.005*\"tuesday\" + 0.004*\"coronavirus\"'),\n",
       " (3,\n",
       "  '0.015*\"coronavirus\" + 0.011*\"people\" + 0.010*\"cases\" + 0.010*\"covid19\" + 0.009*\"pandemic\" + 0.009*\"countries\" + 0.009*\"country\" + 0.009*\"health\" + 0.009*\"turkey\" + 0.008*\"world\"'),\n",
       " (4,\n",
       "  '0.000*\"coronavirus\" + 0.000*\"countries\" + 0.000*\"cases\" + 0.000*\"turkey\" + 0.000*\"people\" + 0.000*\"covid19\" + 0.000*\"health\" + 0.000*\"pandemic\" + 0.000*\"virus\" + 0.000*\"new\"')]"
      ]
     },
     "execution_count": 103,
     "metadata": {},
     "output_type": "execute_result"
    }
   ],
   "source": [
    "turkeyModel = countryTopicsOverTime('TR')\n",
    "turkeyModel[0]"
   ]
  },
  {
   "cell_type": "markdown",
   "metadata": {},
   "source": [
    "### Topics for Turkey:\n",
    "\n",
    "* 0: Coronavirus and Rising Cases\n",
    "* 1: Coronavirus and Public Health\n",
    "* 2: Beirut/Lebanon + Coronavirus\n",
    "* 3: Coronavirus and Public Health\n",
    "* 4: Coronavirus and Public Health"
   ]
  },
  {
   "cell_type": "code",
   "execution_count": 104,
   "metadata": {},
   "outputs": [
    {
     "name": "stdout",
     "output_type": "stream",
     "text": [
      "[(0, 0.997352)]\n",
      "[(0, 0.9976034)]\n",
      "[(0, 0.99802905)]\n",
      "[(0, 0.99777466)]\n",
      "[(3, 0.99824154)]\n",
      "[(3, 0.9997316)]\n",
      "[(0, 0.99816126)]\n",
      "[(0, 0.9895916), (3, 0.010350898)]\n",
      "[(0, 0.082289845), (2, 0.6626386), (3, 0.2549784)]\n"
     ]
    }
   ],
   "source": [
    "ldaNA = turkeyModel[1]\n",
    "corpusNA = turkeyModel[2]\n",
    "transformedCorpus = ldaNA[corpusNA]\n",
    "for tc in transformedCorpus:\n",
    "    print(tc)"
   ]
  },
  {
   "cell_type": "markdown",
   "metadata": {},
   "source": [
    "* Dec 2019: Coronavirus and Rising Cases\n",
    "* Jan 2020: Coronavirus and Rising Cases\n",
    "* Feb 2020: Coronavirus and Rising Cases\n",
    "* Mar 2020: Coronavirus and Rising Cases\n",
    "* Apr 2020: Coronavirus and Public Health\n",
    "* May 2020: Coronavirus and Public Health\n",
    "* Jun 2020: Coronavirus and Rising Cases\n",
    "* Jul 2020: Coronavirus and Rising Cases\n",
    "* Aug 2020: Coronavirus and Public Health + Beirut"
   ]
  },
  {
   "cell_type": "markdown",
   "metadata": {},
   "source": [
    "## Topics for US\n",
    "\n",
    "I'll run the same analysis for US"
   ]
  },
  {
   "cell_type": "code",
   "execution_count": 105,
   "metadata": {},
   "outputs": [
    {
     "data": {
      "text/plain": [
       "[(0,\n",
       "  '0.000*\"people\" + 0.000*\"coronavirus\" + 0.000*\"health\" + 0.000*\"new\" + 0.000*\"country\" + 0.000*\"president\" + 0.000*\"virus\" + 0.000*\"covid19\" + 0.000*\"government\" + 0.000*\"world\"'),\n",
       " (1,\n",
       "  '0.011*\"people\" + 0.007*\"new\" + 0.007*\"health\" + 0.007*\"coronavirus\" + 0.006*\"cases\" + 0.006*\"pandemic\" + 0.005*\"covid19\" + 0.005*\"president\" + 0.005*\"country\" + 0.004*\"virus\"'),\n",
       " (2,\n",
       "  '0.012*\"people\" + 0.010*\"coronavirus\" + 0.008*\"health\" + 0.007*\"new\" + 0.005*\"pandemic\" + 0.005*\"world\" + 0.005*\"covid19\" + 0.005*\"virus\" + 0.005*\"country\" + 0.005*\"president\"'),\n",
       " (3,\n",
       "  '0.012*\"people\" + 0.010*\"coronavirus\" + 0.007*\"health\" + 0.007*\"new\" + 0.006*\"virus\" + 0.005*\"president\" + 0.005*\"country\" + 0.005*\"cases\" + 0.004*\"world\" + 0.004*\"government\"'),\n",
       " (4,\n",
       "  '0.013*\"people\" + 0.007*\"president\" + 0.006*\"new\" + 0.005*\"coronavirus\" + 0.005*\"trump\" + 0.004*\"country\" + 0.004*\"health\" + 0.004*\"government\" + 0.004*\"world\" + 0.004*\"time\"')]"
      ]
     },
     "execution_count": 105,
     "metadata": {},
     "output_type": "execute_result"
    }
   ],
   "source": [
    "usModel = countryTopicsOverTime('US')\n",
    "usModel[0]"
   ]
  },
  {
   "cell_type": "markdown",
   "metadata": {},
   "source": [
    "### Topics for US:\n",
    "\n",
    "* 0: Coronavirus and Public Health + President's messages\n",
    "* 1: Coronavirus and Public Health + President's messages\n",
    "* 2: Coronavirus and Public Health + President's messages\n",
    "* 3: Coronavirus and Public Health\n",
    "* 4: Novel/New Virus + President's messages"
   ]
  },
  {
   "cell_type": "code",
   "execution_count": 107,
   "metadata": {},
   "outputs": [
    {
     "name": "stdout",
     "output_type": "stream",
     "text": [
      "[(1, 0.4213007), (2, 0.057244007), (3, 0.5008299), (4, 0.020572944)]\n",
      "[(1, 0.035445776), (2, 0.34658325), (3, 0.14308782), (4, 0.47486943)]\n",
      "[(3, 0.02574117), (4, 0.96920377)]\n",
      "[(2, 0.03514284), (3, 0.9528601)]\n",
      "[(2, 0.97344714), (3, 0.017897649)]\n",
      "[(1, 0.0871119), (2, 0.90506136)]\n",
      "[(1, 0.9518598), (2, 0.03857566)]\n",
      "[(1, 0.9640164), (2, 0.02871547)]\n",
      "[(1, 0.08472384), (2, 0.04751099), (4, 0.86682534)]\n"
     ]
    }
   ],
   "source": [
    "ldaNA = usModel[1]\n",
    "corpusNA = usModel[2]\n",
    "transformedCorpus = ldaNA[corpusNA]\n",
    "for tc in transformedCorpus:\n",
    "    print(tc)"
   ]
  },
  {
   "cell_type": "markdown",
   "metadata": {},
   "source": [
    "* Dec 2019: Coronavirus and Public Health + President's messages\n",
    "* Jan 2020: Novel Coronavirus and Public Health + President's messages\n",
    "* Feb 2020: Novel/New Virus + President's messages\n",
    "* Mar 2020: Coronavirus and Public Health\n",
    "* Apr 2020: Coronavirus and Public Health + President's messages\n",
    "* May 2020: Coronavirus and Public Health + President's messages\n",
    "* Jun 2020: Coronavirus and Public Health\n",
    "* Jul 2020: Coronavirus and Public Health\n",
    "* Aug 2020: Novel/New Virus + President's messages"
   ]
  },
  {
   "cell_type": "markdown",
   "metadata": {},
   "source": [
    "## Topics for UK\n",
    "\n",
    "I'll run the same analysis for UK"
   ]
  },
  {
   "cell_type": "code",
   "execution_count": 20,
   "metadata": {},
   "outputs": [
    {
     "data": {
      "text/plain": [
       "[(0,\n",
       "  '0.011*\"coronavirus\" + 0.010*\"people\" + 0.009*\"virus\" + 0.008*\"gmt\" + 0.008*\"china\" + 0.007*\"health\" + 0.007*\"cases\" + 0.006*\"new\" + 0.006*\"outbreak\" + 0.005*\"government\"'),\n",
       " (1,\n",
       "  '0.015*\"coronavirus\" + 0.012*\"people\" + 0.009*\"health\" + 0.008*\"new\" + 0.008*\"cases\" + 0.007*\"bst\" + 0.007*\"covid19\" + 0.006*\"government\" + 0.006*\"country\" + 0.006*\"world\"'),\n",
       " (2,\n",
       "  '0.012*\"coronavirus\" + 0.012*\"people\" + 0.009*\"cases\" + 0.009*\"new\" + 0.008*\"health\" + 0.007*\"covid19\" + 0.007*\"country\" + 0.006*\"bst\" + 0.006*\"government\" + 0.005*\"world\"'),\n",
       " (3,\n",
       "  '0.015*\"coronavirus\" + 0.013*\"people\" + 0.009*\"cases\" + 0.008*\"health\" + 0.008*\"new\" + 0.007*\"government\" + 0.007*\"virus\" + 0.007*\"country\" + 0.006*\"gmt\" + 0.005*\"covid19\"'),\n",
       " (4,\n",
       "  '0.013*\"cases\" + 0.013*\"coronavirus\" + 0.012*\"people\" + 0.010*\"new\" + 0.009*\"health\" + 0.009*\"covid19\" + 0.007*\"government\" + 0.006*\"country\" + 0.006*\"bst\" + 0.006*\"pandemic\"')]"
      ]
     },
     "execution_count": 20,
     "metadata": {},
     "output_type": "execute_result"
    }
   ],
   "source": [
    "ukModel = countryTopicsOverTime('UK')\n",
    "ukModel[0]"
   ]
  },
  {
   "cell_type": "markdown",
   "metadata": {},
   "source": [
    "### Topics for UK\n",
    "\n",
    "1. Topic 0: Coronavirus, China\n",
    "2. Topic 1: Coronavirus and Public Health + Rising Cases\n",
    "3. Topic 2: Coronavirus and Public Health + Rising Cases\n",
    "4. Topic 3: Coronavirus and Public Health + Rising Cases\n",
    "5. Topic 4: Coronavirus and Public Health + Rising Cases"
   ]
  },
  {
   "cell_type": "code",
   "execution_count": 22,
   "metadata": {},
   "outputs": [
    {
     "name": "stdout",
     "output_type": "stream",
     "text": [
      "[(0, 0.4484221), (1, 0.050511863), (2, 0.26005825), (3, 0.04436346), (4, 0.19664435)]\n",
      "[(0, 0.85653275), (1, 0.024458837), (3, 0.09251843), (4, 0.021701824)]\n",
      "[(0, 0.77981746), (1, 0.06085252), (3, 0.12730305), (4, 0.02264195)]\n",
      "[(1, 0.014239696), (3, 0.9804953)]\n",
      "[(1, 0.9825007)]\n",
      "[(1, 0.12103872), (2, 0.8390095), (3, 0.015606011), (4, 0.024345197)]\n",
      "[(1, 0.029820552), (2, 0.014529348), (4, 0.94949174)]\n",
      "[(4, 0.98502755)]\n",
      "[(2, 0.98941207)]\n"
     ]
    }
   ],
   "source": [
    "ldaNA = ukModel[1]\n",
    "corpusNA = ukModel[2]\n",
    "transformedCorpus = ldaNA[corpusNA]\n",
    "for tc in transformedCorpus:\n",
    "    print(tc)"
   ]
  },
  {
   "cell_type": "markdown",
   "metadata": {},
   "source": [
    "* Dec 2019: Coronavirus, China\n",
    "* Jan 2020: Coronavirus, China\n",
    "* Feb 2020: Coronavirus, China\n",
    "* Mar 2020: Coronavirus and Public Health + Rising Cases\n",
    "* Apr 2020: Coronavirus and Public Health + Rising Cases\n",
    "* May 2020: Coronavirus and Public Health + Rising Cases\n",
    "* Jun 2020: Coronavirus and Public Health + Rising Cases\n",
    "* Jul 2020: Coronavirus and Public Health + Rising Cases\n",
    "* Aug 2020: Coronavirus and Public Health + Rising Cases"
   ]
  },
  {
   "cell_type": "markdown",
   "metadata": {},
   "source": [
    "## Topics for China"
   ]
  },
  {
   "cell_type": "code",
   "execution_count": 27,
   "metadata": {},
   "outputs": [
    {
     "data": {
      "text/plain": [
       "[(0,\n",
       "  '0.000*\"china\" + 0.000*\"covid19\" + 0.000*\"countries\" + 0.000*\"health\" + 0.000*\"chinese\" + 0.000*\"international\" + 0.000*\"world\" + 0.000*\"pandemic\" + 0.000*\"global\" + 0.000*\"country\"'),\n",
       " (1,\n",
       "  '0.012*\"medical\" + 0.011*\"coronavirus\" + 0.010*\"novel\" + 0.010*\"china\" + 0.010*\"chinese\" + 0.010*\"wuhan\" + 0.008*\"new\" + 0.007*\"humanitarian\" + 0.006*\"year\" + 0.005*\"xinhua\"'),\n",
       " (2,\n",
       "  '0.000*\"china\" + 0.000*\"covid19\" + 0.000*\"health\" + 0.000*\"countries\" + 0.000*\"people\" + 0.000*\"pandemic\" + 0.000*\"chinese\" + 0.000*\"virus\" + 0.000*\"world\" + 0.000*\"coronavirus\"'),\n",
       " (3,\n",
       "  '0.019*\"china\" + 0.016*\"covid19\" + 0.012*\"countries\" + 0.011*\"health\" + 0.010*\"pandemic\" + 0.009*\"people\" + 0.009*\"world\" + 0.009*\"global\" + 0.008*\"chinese\" + 0.008*\"international\"'),\n",
       " (4,\n",
       "  '0.022*\"china\" + 0.012*\"chinese\" + 0.011*\"coronavirus\" + 0.010*\"covid19\" + 0.010*\"people\" + 0.008*\"health\" + 0.008*\"medical\" + 0.008*\"countries\" + 0.008*\"world\" + 0.007*\"virus\"')]"
      ]
     },
     "execution_count": 27,
     "metadata": {},
     "output_type": "execute_result"
    }
   ],
   "source": [
    "cnModel = countryTopicsOverTime('CN')\n",
    "cnModel[0]"
   ]
  },
  {
   "cell_type": "markdown",
   "metadata": {},
   "source": [
    "### Topics for China\n",
    "\n",
    "1. Topic 0: Coronavirus and public health\n",
    "2. Topic 1: Wuhan, Novel Coronavirus\n",
    "3. Topic 2: Coronavirus\n",
    "4. Topic 3: Coronavirus and public health\n",
    "5. Topic 4: Coronavirus and public health"
   ]
  },
  {
   "cell_type": "code",
   "execution_count": 28,
   "metadata": {},
   "outputs": [
    {
     "name": "stdout",
     "output_type": "stream",
     "text": [
      "[(0, 0.2), (1, 0.2), (2, 0.2), (3, 0.2), (4, 0.2)]\n",
      "[(1, 0.6419108), (3, 0.15890743), (4, 0.19911174)]\n",
      "[(4, 0.99812967)]\n",
      "[(3, 0.072167195), (4, 0.9278218)]\n",
      "[(3, 0.9740071), (4, 0.025986535)]\n",
      "[(3, 0.99956405)]\n",
      "[(3, 0.999438)]\n",
      "[(3, 0.9998687)]\n",
      "[(3, 0.9998798)]\n"
     ]
    }
   ],
   "source": [
    "ldaNA = cnModel[1]\n",
    "corpusNA = cnModel[2]\n",
    "transformedCorpus = ldaNA[corpusNA]\n",
    "for tc in transformedCorpus:\n",
    "    print(tc)"
   ]
  },
  {
   "cell_type": "markdown",
   "metadata": {},
   "source": [
    "* Dec 2019: Coronavirus and public health\n",
    "* Jan 2020: Wuhan, Novel Coronavirus\n",
    "* Feb 2020: Coronavirus and public health\n",
    "* Mar 2020: Coronavirus and public health\n",
    "* Apr 2020: Coronavirus and public health\n",
    "* May 2020: Coronavirus and public health\n",
    "* Jun 2020: Coronavirus and public health\n",
    "* Jul 2020: Coronavirus and public health\n",
    "* Aug 2020: Coronavirus and public health"
   ]
  },
  {
   "cell_type": "markdown",
   "metadata": {},
   "source": [
    "## Topics for Germany"
   ]
  },
  {
   "cell_type": "code",
   "execution_count": 25,
   "metadata": {},
   "outputs": [
    {
     "data": {
      "text/plain": [
       "[(0,\n",
       "  '0.015*\"coronavirus\" + 0.010*\"people\" + 0.009*\"new\" + 0.008*\"country\" + 0.008*\"health\" + 0.008*\"cases\" + 0.007*\"government\" + 0.006*\"covid19\" + 0.006*\"pandemic\" + 0.005*\"world\"'),\n",
       " (1,\n",
       "  '0.000*\"coronavirus\" + 0.000*\"people\" + 0.000*\"cases\" + 0.000*\"country\" + 0.000*\"health\" + 0.000*\"pandemic\" + 0.000*\"government\" + 0.000*\"new\" + 0.000*\"world\" + 0.000*\"virus\"'),\n",
       " (2,\n",
       "  '0.003*\"____\" + 0.003*\"talks\" + 0.002*\"merkel\" + 0.002*\"idlib\" + 0.002*\"syria\" + 0.002*\"resolution\" + 0.002*\"court\" + 0.002*\"internationaldpacom\" + 0.002*\"syrian\" + 0.002*\"recovery\"'),\n",
       " (3,\n",
       "  '0.019*\"coronavirus\" + 0.012*\"people\" + 0.010*\"cases\" + 0.009*\"country\" + 0.009*\"health\" + 0.008*\"new\" + 0.008*\"covid19\" + 0.007*\"government\" + 0.007*\"germany\" + 0.006*\"pandemic\"'),\n",
       " (4,\n",
       "  '0.000*\"coronavirus\" + 0.000*\"people\" + 0.000*\"health\" + 0.000*\"cases\" + 0.000*\"covid19\" + 0.000*\"country\" + 0.000*\"new\" + 0.000*\"government\" + 0.000*\"virus\" + 0.000*\"germany\"')]"
      ]
     },
     "execution_count": 25,
     "metadata": {},
     "output_type": "execute_result"
    }
   ],
   "source": [
    "deModel = countryTopicsOverTime('DE')\n",
    "deModel[0]"
   ]
  },
  {
   "cell_type": "markdown",
   "metadata": {},
   "source": [
    "### Topics for Germany\n",
    "\n",
    "1. Topic 0: Coronavirus, Public Health and New Cases\n",
    "2. Topic 1: Coronavirus, Public Health and New Cases\n",
    "3. Topic 2: Syrian Crisis Discourse\n",
    "4. Topic 3: Coronavirus, Public Health and New Cases\n",
    "5. Topic 4: Coronavirus, Public Health and New Cases"
   ]
  },
  {
   "cell_type": "code",
   "execution_count": 26,
   "metadata": {},
   "outputs": [
    {
     "name": "stdout",
     "output_type": "stream",
     "text": [
      "[(0, 0.2), (1, 0.2), (2, 0.2), (3, 0.2), (4, 0.2)]\n",
      "[(0, 0.2), (1, 0.2), (2, 0.2), (3, 0.2), (4, 0.2)]\n",
      "[(0, 0.99635774)]\n",
      "[(3, 0.99998087)]\n",
      "[(3, 0.99992)]\n",
      "[(0, 0.994165)]\n",
      "[(0, 0.012681768), (3, 0.9871532)]\n",
      "[(2, 0.450205), (3, 0.5494175)]\n",
      "[(2, 0.7785722), (3, 0.21946736)]\n"
     ]
    }
   ],
   "source": [
    "ldaNA = deModel[1]\n",
    "corpusNA = deModel[2]\n",
    "transformedCorpus = ldaNA[corpusNA]\n",
    "for tc in transformedCorpus:\n",
    "    print(tc)"
   ]
  },
  {
   "cell_type": "markdown",
   "metadata": {},
   "source": [
    "* Dec 2019: Coronavirus, Public Health and New Cases\n",
    "* Jan 2020: Coronavirus, Public Health and New Cases\n",
    "* Feb 2020: Coronavirus, Public Health and New Cases\n",
    "* Mar 2020: Syrian Crisis Discourse\n",
    "* Apr 2020: Syrian Crisis Discourse\n",
    "* May 2020: Coronavirus, Public Health and New Cases\n",
    "* Jun 2020: Syrian Crisis Discourse\n",
    "* Jul 2020: Coronavirus, Public Health and New Cases\n",
    "* Aug 2020: Coronavirus, Public Health and New Cases"
   ]
  },
  {
   "cell_type": "markdown",
   "metadata": {},
   "source": [
    "## Topics for Iran"
   ]
  },
  {
   "cell_type": "code",
   "execution_count": 30,
   "metadata": {},
   "outputs": [
    {
     "data": {
      "text/plain": [
       "[(0,\n",
       "  '0.019*\"coronavirus\" + 0.017*\"iran\" + 0.015*\"country\" + 0.012*\"health\" + 0.012*\"people\" + 0.010*\"covid19\" + 0.009*\"iranian\" + 0.008*\"countries\" + 0.008*\"virus\" + 0.008*\"patients\"'),\n",
       " (1,\n",
       "  '0.033*\"iran\" + 0.027*\"coronavirus\" + 0.022*\"sanctions\" + 0.015*\"health\" + 0.015*\"people\" + 0.014*\"country\" + 0.013*\"iranian\" + 0.011*\"medical\" + 0.010*\"world\" + 0.010*\"virus\"'),\n",
       " (2,\n",
       "  '0.000*\"iran\" + 0.000*\"coronavirus\" + 0.000*\"country\" + 0.000*\"sanctions\" + 0.000*\"health\" + 0.000*\"people\" + 0.000*\"iranian\" + 0.000*\"ministry\" + 0.000*\"covid19\" + 0.000*\"countries\"'),\n",
       " (3,\n",
       "  '0.025*\"iran\" + 0.024*\"coronavirus\" + 0.015*\"health\" + 0.014*\"sanctions\" + 0.014*\"country\" + 0.012*\"virus\" + 0.012*\"people\" + 0.010*\"iranian\" + 0.010*\"countries\" + 0.009*\"covid19\"'),\n",
       " (4,\n",
       "  '0.000*\"iran\" + 0.000*\"coronavirus\" + 0.000*\"health\" + 0.000*\"sanctions\" + 0.000*\"country\" + 0.000*\"iranian\" + 0.000*\"people\" + 0.000*\"medical\" + 0.000*\"world\" + 0.000*\"countries\"')]"
      ]
     },
     "execution_count": 30,
     "metadata": {},
     "output_type": "execute_result"
    }
   ],
   "source": [
    "irModel = countryTopicsOverTime('IR')\n",
    "irModel[0]"
   ]
  },
  {
   "cell_type": "markdown",
   "metadata": {},
   "source": [
    "### Topics for Iran\n",
    "\n",
    "1. Topic 0: Coronavirus Patients, Public Health\n",
    "2. Topic 1: Coronavirus, Public Health and Sanctions\n",
    "3. Topic 2: Coronavirus, Government Sanctions\n",
    "4. Topic 3: Coronavirus\n",
    "5. Topic 4: Coronavirus and Public Health"
   ]
  },
  {
   "cell_type": "code",
   "execution_count": 31,
   "metadata": {},
   "outputs": [
    {
     "name": "stdout",
     "output_type": "stream",
     "text": [
      "[(0, 0.2), (1, 0.2), (2, 0.2), (3, 0.2), (4, 0.2)]\n",
      "[(0, 0.2), (1, 0.2), (2, 0.2), (3, 0.2), (4, 0.2)]\n",
      "[(1, 0.9982951)]\n",
      "[(1, 0.9925809)]\n",
      "[(1, 0.011291613), (3, 0.98749375)]\n",
      "[(0, 0.75663614), (1, 0.03602219), (3, 0.20733318)]\n",
      "[(0, 0.97995734), (3, 0.014087068)]\n",
      "[(0, 0.9963793)]\n",
      "[(0, 0.99472284)]\n"
     ]
    }
   ],
   "source": [
    "ldaNA = irModel[1]\n",
    "corpusNA = irModel[2]\n",
    "transformedCorpus = ldaNA[corpusNA]\n",
    "for tc in transformedCorpus:\n",
    "    print(tc)"
   ]
  },
  {
   "cell_type": "markdown",
   "metadata": {},
   "source": [
    "* Dec 2019: Coronavirus and Public Health\n",
    "* Jan 2020: Coronavirus and Public Health\n",
    "* Feb 2020: Coronavirus Patients, Public Health\n",
    "* Mar 2020: Coronavirus Patients, Public Health\n",
    "* Apr 2020: Coronavirus, Government Sanctions\n",
    "* May 2020: Coronavirus Patients, Public Health\n",
    "* Jun 2020: Coronavirus Patients, Public Health\n",
    "* Jul 2020: Coronavirus Patients, Public Health\n",
    "* Aug 2020: Coronavirus Patients, Public Health"
   ]
  },
  {
   "cell_type": "markdown",
   "metadata": {},
   "source": [
    "## Topics for Qatar"
   ]
  },
  {
   "cell_type": "code",
   "execution_count": 32,
   "metadata": {},
   "outputs": [
    {
     "data": {
      "text/plain": [
       "[(0,\n",
       "  '0.021*\"coronavirus\" + 0.012*\"cases\" + 0.012*\"gmt\" + 0.010*\"new\" + 0.010*\"people\" + 0.009*\"health\" + 0.008*\"covid19\" + 0.008*\"country\" + 0.007*\"pandemic\" + 0.006*\"government\"'),\n",
       " (1,\n",
       "  '0.000*\"coronavirus\" + 0.000*\"cases\" + 0.000*\"health\" + 0.000*\"people\" + 0.000*\"new\" + 0.000*\"virus\" + 0.000*\"china\" + 0.000*\"gmt\" + 0.000*\"country\" + 0.000*\"government\"'),\n",
       " (2,\n",
       "  '0.021*\"coronavirus\" + 0.016*\"cases\" + 0.013*\"gmt\" + 0.011*\"new\" + 0.010*\"covid19\" + 0.009*\"people\" + 0.009*\"health\" + 0.009*\"country\" + 0.007*\"pandemic\" + 0.006*\"deaths\"'),\n",
       " (3,\n",
       "  '0.028*\"coronavirus\" + 0.017*\"cases\" + 0.015*\"gmt\" + 0.013*\"new\" + 0.012*\"people\" + 0.012*\"health\" + 0.009*\"country\" + 0.008*\"china\" + 0.008*\"virus\" + 0.008*\"government\"'),\n",
       " (4,\n",
       "  '0.018*\"beirut\" + 0.015*\"gmt\" + 0.011*\"lebanon\" + 0.010*\"people\" + 0.010*\"blast\" + 0.010*\"lebanese\" + 0.010*\"explosion\" + 0.006*\"port\" + 0.006*\"aid\" + 0.005*\"country\"')]"
      ]
     },
     "execution_count": 32,
     "metadata": {},
     "output_type": "execute_result"
    }
   ],
   "source": [
    "qaModel = countryTopicsOverTime('QA')\n",
    "qaModel[0]"
   ]
  },
  {
   "cell_type": "markdown",
   "metadata": {},
   "source": [
    "### Topics for Qatar\n",
    "\n",
    "1. Topic 0: Coronavirus and new cases\n",
    "2. Topic 1: Coronavirus and Public Health, China\n",
    "3. Topic 2: Coronavirus and Public Health\n",
    "4. Topic 3: Coronavirus and Public Health\n",
    "5. Topic 4: Lebanon Blast"
   ]
  },
  {
   "cell_type": "code",
   "execution_count": 33,
   "metadata": {},
   "outputs": [
    {
     "name": "stdout",
     "output_type": "stream",
     "text": [
      "[(0, 0.2), (1, 0.2), (2, 0.2), (3, 0.2), (4, 0.2)]\n",
      "[(3, 0.99988484)]\n",
      "[(3, 0.99983335)]\n",
      "[(3, 0.9943365)]\n",
      "[(0, 0.99678725)]\n",
      "[(0, 0.99585813)]\n",
      "[(2, 0.9893172)]\n",
      "[(0, 0.9937935)]\n",
      "[(0, 0.044973157), (3, 0.018431747), (4, 0.93522096)]\n"
     ]
    }
   ],
   "source": [
    "ldaNA = qaModel[1]\n",
    "corpusNA = qaModel[2]\n",
    "transformedCorpus = ldaNA[corpusNA]\n",
    "for tc in transformedCorpus:\n",
    "    print(tc)"
   ]
  },
  {
   "cell_type": "markdown",
   "metadata": {},
   "source": [
    "* Dec 2019: Coronavirus and Public Health\n",
    "* Jan 2020: Coronavirus and Public Health\n",
    "* Feb 2020: Coronavirus and Public Health\n",
    "* Mar 2020: Coronavirus and Public Health\n",
    "* Apr 2020: Coronavirus and new cases\n",
    "* May 2020: Coronavirus and new cases\n",
    "* Jun 2020: Coronavirus and Public Health, China\n",
    "* Jul 2020: Coronavirus and new cases\n",
    "* Aug 2020: Lebanon Blast"
   ]
  },
  {
   "cell_type": "markdown",
   "metadata": {},
   "source": [
    "## Topics for Russia"
   ]
  },
  {
   "cell_type": "code",
   "execution_count": 34,
   "metadata": {},
   "outputs": [
    {
     "data": {
      "text/plain": [
       "[(0,\n",
       "  '0.017*\"coronavirus\" + 0.013*\"russian\" + 0.013*\"covid19\" + 0.009*\"pandemic\" + 0.009*\"russia\" + 0.009*\"humanitarian\" + 0.008*\"people\" + 0.007*\"health\" + 0.006*\"cases\" + 0.006*\"medical\"'),\n",
       " (1,\n",
       "  '0.014*\"russian\" + 0.014*\"coronavirus\" + 0.014*\"russia\" + 0.008*\"covid19\" + 0.007*\"cases\" + 0.007*\"humanitarian\" + 0.006*\"july\" + 0.005*\"new\" + 0.005*\"people\" + 0.005*\"ministry\"'),\n",
       " (2,\n",
       "  '0.028*\"coronavirus\" + 0.012*\"russian\" + 0.012*\"cases\" + 0.012*\"russia\" + 0.010*\"new\" + 0.010*\"country\" + 0.009*\"number\" + 0.008*\"ussia\" + 0.008*\"moscow\" + 0.007*\"june\"'),\n",
       " (3,\n",
       "  '0.019*\"coronavirus\" + 0.014*\"russian\" + 0.010*\"russia\" + 0.008*\"people\" + 0.007*\"humanitarian\" + 0.006*\"cases\" + 0.006*\"china\" + 0.006*\"covid19\" + 0.006*\"president\" + 0.006*\"health\"'),\n",
       " (4,\n",
       "  '0.016*\"coronavirus\" + 0.012*\"covid19\" + 0.012*\"russian\" + 0.010*\"pandemic\" + 0.009*\"russia\" + 0.008*\"humanitarian\" + 0.007*\"health\" + 0.006*\"united\" + 0.006*\"people\" + 0.006*\"country\"')]"
      ]
     },
     "execution_count": 34,
     "metadata": {},
     "output_type": "execute_result"
    }
   ],
   "source": [
    "ruModel = countryTopicsOverTime('RU')\n",
    "ruModel[0]"
   ]
  },
  {
   "cell_type": "markdown",
   "metadata": {},
   "source": [
    "### Topics for Russia\n",
    "\n",
    "* Topic 0: Coronavirus, new cases, humanitarian and medical support\n",
    "* Topic 1: Coronavirus, new cases, humanitarian support\n",
    "* Topic 2: Coronavirus, new cases\n",
    "* Topic 3: Coronavirus, new cases, China, President\n",
    "* Topic 4: Coronavirus, US, Humanitarian"
   ]
  },
  {
   "cell_type": "code",
   "execution_count": 35,
   "metadata": {},
   "outputs": [
    {
     "name": "stdout",
     "output_type": "stream",
     "text": [
      "[(0, 0.2), (1, 0.2), (2, 0.2), (3, 0.2), (4, 0.2)]\n",
      "[(2, 0.36665168), (3, 0.63090914)]\n",
      "[(3, 0.99995697)]\n",
      "[(0, 0.13252148), (3, 0.86708075)]\n",
      "[(0, 0.9998452)]\n",
      "[(4, 0.991742)]\n",
      "[(0, 0.42017758), (2, 0.56834036)]\n",
      "[(1, 0.9967667)]\n",
      "[(2, 0.9999439)]\n"
     ]
    }
   ],
   "source": [
    "ldaNA = ruModel[1]\n",
    "corpusNA = ruModel[2]\n",
    "transformedCorpus = ldaNA[corpusNA]\n",
    "for tc in transformedCorpus:\n",
    "    print(tc)"
   ]
  },
  {
   "cell_type": "markdown",
   "metadata": {},
   "source": [
    "* Dec 2019: Coronavirus, new cases\n",
    "* Jan 2020: Coronavirus, new cases, China, President\n",
    "* Feb 2020: Coronavirus, new cases, China, President\n",
    "* Mar 2020: Coronavirus, new cases, China, President\n",
    "* Apr 2020: Coronavirus, new cases, humanitarian and medical support\n",
    "* May 2020: Coronavirus, US, Humanitarian\n",
    "* Jun 2020: Coronavirus, new cases, humanitarian and medical support\n",
    "* Jul 2020: Coronavirus, new cases, humanitarian support\n",
    "* Aug 2020: Coronavirus, new cases"
   ]
  },
  {
   "cell_type": "markdown",
   "metadata": {},
   "source": [
    "## Topics for Saudi Arabia"
   ]
  },
  {
   "cell_type": "code",
   "execution_count": 36,
   "metadata": {},
   "outputs": [
    {
     "data": {
      "text/plain": [
       "[(0,\n",
       "  '0.010*\"humanitarian\" + 0.009*\"yemen\" + 0.009*\"people\" + 0.009*\"health\" + 0.008*\"coronavirus\" + 0.008*\"covid19\" + 0.008*\"saudi\" + 0.007*\"aid\" + 0.007*\"pandemic\" + 0.007*\"international\"'),\n",
       " (1,\n",
       "  '0.000*\"coronavirus\" + 0.000*\"covid19\" + 0.000*\"health\" + 0.000*\"humanitarian\" + 0.000*\"yemen\" + 0.000*\"people\" + 0.000*\"pandemic\" + 0.000*\"international\" + 0.000*\"countries\" + 0.000*\"world\"'),\n",
       " (2,\n",
       "  '0.012*\"coronavirus\" + 0.011*\"health\" + 0.009*\"people\" + 0.008*\"covid19\" + 0.008*\"humanitarian\" + 0.007*\"government\" + 0.006*\"yemen\" + 0.006*\"virus\" + 0.006*\"world\" + 0.006*\"saudi\"'),\n",
       " (3,\n",
       "  '0.010*\"coronavirus\" + 0.009*\"covid19\" + 0.009*\"people\" + 0.008*\"health\" + 0.008*\"pandemic\" + 0.007*\"humanitarian\" + 0.006*\"world\" + 0.006*\"countries\" + 0.006*\"international\" + 0.006*\"medical\"'),\n",
       " (4,\n",
       "  '0.000*\"coronavirus\" + 0.000*\"health\" + 0.000*\"people\" + 0.000*\"covid19\" + 0.000*\"country\" + 0.000*\"medical\" + 0.000*\"humanitarian\" + 0.000*\"pandemic\" + 0.000*\"international\" + 0.000*\"countries\"')]"
      ]
     },
     "execution_count": 36,
     "metadata": {},
     "output_type": "execute_result"
    }
   ],
   "source": [
    "saModel = countryTopicsOverTime('SA')\n",
    "saModel[0]"
   ]
  },
  {
   "cell_type": "markdown",
   "metadata": {},
   "source": [
    "### Topics for Saudi Arabia\n",
    "\n",
    "* Topic 0: Yemen, Coronavirus, Pandemic, Humanitarian Aid\n",
    "* Topic 1: Coronavirus, Yemen\n",
    "* Topic 2: Coronavirus, Yemen\n",
    "* Topic 3: Coronavirus, Public Health\n",
    "* Topic 4: Coronavirus, Public Health, Medical and Humanatarian Support"
   ]
  },
  {
   "cell_type": "code",
   "execution_count": 37,
   "metadata": {},
   "outputs": [
    {
     "name": "stdout",
     "output_type": "stream",
     "text": [
      "[(0, 0.2), (1, 0.2), (2, 0.2), (3, 0.2), (4, 0.2)]\n",
      "[(0, 0.2), (1, 0.2), (2, 0.2), (3, 0.2), (4, 0.2)]\n",
      "[(2, 0.99932766)]\n",
      "[(2, 0.9994958)]\n",
      "[(3, 0.99836344)]\n",
      "[(2, 0.99792176)]\n",
      "[(0, 0.9988792)]\n",
      "[(3, 0.9999199)]\n",
      "[(0, 0.99978703)]\n"
     ]
    }
   ],
   "source": [
    "ldaNA = saModel[1]\n",
    "corpusNA = saModel[2]\n",
    "transformedCorpus = ldaNA[corpusNA]\n",
    "for tc in transformedCorpus:\n",
    "    print(tc)"
   ]
  },
  {
   "cell_type": "markdown",
   "metadata": {},
   "source": [
    "* Dec 2019: Coronavirus, Yemen\n",
    "* Jan 2020: Coronavirus, Yemen\n",
    "* Feb 2020: Coronavirus, Yemen\n",
    "* Mar 2020: Coronavirus, Yemen\n",
    "* Apr 2020: Coronavirus, Public Health\n",
    "* May 2020: Coronavirus, Yemen\n",
    "* Jun 2020: Yemen, Coronavirus, Pandemic, Humanitarian Aid\n",
    "* Jul 2020: Coronavirus, Public Health\n",
    "* Aug 2020: Yemen, Coronavirus, Pandemic, Humanitarian Aid"
   ]
  },
  {
   "cell_type": "markdown",
   "metadata": {},
   "source": [
    "## Conclusion\n",
    "\n",
    "The topics analysed using LDA topic modelling will be presented on a timeline. The limitation of this exercise is the consolidation of articles from entire month into a single article. Obviously, articles talk about different topics and LDA will give us the most prominent topic. \n",
    "\n",
    "This data is represented on the website using a timeline."
   ]
  },
  {
   "cell_type": "code",
   "execution_count": null,
   "metadata": {},
   "outputs": [],
   "source": [
    " "
   ]
  }
 ],
 "metadata": {
  "kernelspec": {
   "display_name": "Python 3",
   "language": "python",
   "name": "python3"
  },
  "language_info": {
   "codemirror_mode": {
    "name": "ipython",
    "version": 3
   },
   "file_extension": ".py",
   "mimetype": "text/x-python",
   "name": "python",
   "nbconvert_exporter": "python",
   "pygments_lexer": "ipython3",
   "version": "3.8.3"
  }
 },
 "nbformat": 4,
 "nbformat_minor": 4
}
