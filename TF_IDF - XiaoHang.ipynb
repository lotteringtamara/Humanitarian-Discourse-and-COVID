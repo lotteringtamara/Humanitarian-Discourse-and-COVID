{
 "cells": [
  {
   "cell_type": "markdown",
   "metadata": {},
   "source": [
    "## Assignment 3\n",
    "\n",
    "Since the data is conducted __wordCould__, __WordFrequency_ and __Sentiment Analysis__ in *Assignment 2*, to take one step further, the data holder want us to conduct further analysis on the dataset. for example, the **The Topic Modeling**, **TF-IDF Analysis** and so on based on the second hand data cleaned on the original text news. This note book mainly focus on the **TF-IDF** Analysis on the data set."
   ]
  },
  {
   "cell_type": "markdown",
   "metadata": {},
   "source": [
    "### 1.1 Data Cleaning and Preparation\n",
    "In order for the simpliciry of the display and explaination of the TF-IDF, the first **10** documents of the AE countries are selected to illustrate the process to calculate the *TF-IDF*. Then the process can be applied to all the document in the whole country about **Covid-19**.\n",
    "\n",
    "Firstly, *Load* the data from csv files:"
   ]
  },
  {
   "cell_type": "markdown",
   "metadata": {},
   "source": [
    "import the packages that are needed:"
   ]
  },
  {
   "cell_type": "code",
   "execution_count": 84,
   "metadata": {},
   "outputs": [],
   "source": [
    "import pandas as pd\n",
    "import nltk\n",
    "from collections import Counter\n",
    "from nltk.corpus import stopwords\n",
    "import re\n",
    "import math"
   ]
  },
  {
   "cell_type": "markdown",
   "metadata": {},
   "source": [
    "there are several country, so take _AE_ for example:"
   ]
  },
  {
   "cell_type": "code",
   "execution_count": 146,
   "metadata": {},
   "outputs": [
    {
     "data": {
      "text/plain": [
       "(964, 7)"
      ]
     },
     "execution_count": 146,
     "metadata": {},
     "output_type": "execute_result"
    }
   ],
   "source": [
    "df = pd.read_csv(\"./Clean Data/AE_cleandf.csv\")\n",
    "df.head()\n",
    "df.shape"
   ]
  },
  {
   "cell_type": "markdown",
   "metadata": {},
   "source": [
    "in order to be affected by stopwords, better to ignore the stop words when calculating."
   ]
  },
  {
   "cell_type": "code",
   "execution_count": 72,
   "metadata": {},
   "outputs": [],
   "source": [
    "stopword_list = stopwords.words('english')\n",
    "target_tokens = ['humanitarian', 'humanitarianism', 'covid', 'coronavirus', 'covid19', 'virus']"
   ]
  },
  {
   "cell_type": "markdown",
   "metadata": {},
   "source": [
    "puntuations should alse be removed from the documents:"
   ]
  },
  {
   "cell_type": "code",
   "execution_count": 62,
   "metadata": {},
   "outputs": [],
   "source": [
    "docs = [re.sub(r'[^\\w\\s]','', doc.lower()) for doc in df[0:10]['text']]"
   ]
  },
  {
   "cell_type": "markdown",
   "metadata": {},
   "source": [
    "then just use _nltk_ to tokenize the documents:"
   ]
  },
  {
   "cell_type": "code",
   "execution_count": 67,
   "metadata": {},
   "outputs": [],
   "source": [
    "token_lists = []\n",
    "for doc in docs:\n",
    "    tokens = nltk.word_tokenize(doc)\n",
    "    token_lists.append([token for token in tokens if token not in stopword_list])"
   ]
  },
  {
   "attachments": {
    "image.png": {
     "image/png": "[encoded data removed]"
    }
   },
   "cell_type": "markdown",
   "metadata": {},
   "source": [
    "### 2. Calculate the TF\n",
    "**Term Frequency** refers to the number of times a word appears in a document divided by the total number of words in the document. Every document has its own term frequency.\n",
    "\n",
    "![image.png](attachment:image.png)"
   ]
  },
  {
   "cell_type": "markdown",
   "metadata": {},
   "source": [
    "the target is to calculate the tf of the terms that is defined in the *target_tokens*, in order for reusage, define a function to deal with this:"
   ]
  },
  {
   "cell_type": "code",
   "execution_count": 82,
   "metadata": {},
   "outputs": [],
   "source": [
    "#function to calculate tf(term frequency)\n",
    "def calWordFrequency(token_list, to_count_list):\n",
    "    token_set = set(token_list)\n",
    "    count = len(token_set)\n",
    "    token_map = dict.fromkeys(token_set, 0)\n",
    "    for token in token_list:\n",
    "        token_map[token] = token_map[token] + 1\n",
    "    \n",
    "    res = []\n",
    "    for token in to_count_list:\n",
    "        if token_map.get(token) is None:\n",
    "            res.append(0)\n",
    "        else:\n",
    "            res.append(token_map[token]/float(count))\n",
    "        \n",
    "    return res"
   ]
  },
  {
   "cell_type": "code",
   "execution_count": 80,
   "metadata": {},
   "outputs": [],
   "source": [
    "doc_token_freq_list = []\n",
    "for token_list in token_lists:\n",
    "    doc_freq = calWordFrequency(token_list, target_tokens)\n",
    "    doc_token_freq_list.append(list(doc_freq))"
   ]
  },
  {
   "cell_type": "code",
   "execution_count": 83,
   "metadata": {},
   "outputs": [
    {
     "data": {
      "text/html": [
       "<div>\n",
       "<style scoped>\n",
       "    .dataframe tbody tr th:only-of-type {\n",
       "        vertical-align: middle;\n",
       "    }\n",
       "\n",
       "    .dataframe tbody tr th {\n",
       "        vertical-align: top;\n",
       "    }\n",
       "\n",
       "    .dataframe thead th {\n",
       "        text-align: right;\n",
       "    }\n",
       "</style>\n",
       "<table border=\"1\" class=\"dataframe\">\n",
       "  <thead>\n",
       "    <tr style=\"text-align: right;\">\n",
       "      <th></th>\n",
       "      <th>humanitarian</th>\n",
       "      <th>humanitarianism</th>\n",
       "      <th>covid</th>\n",
       "      <th>coronavirus</th>\n",
       "      <th>covid19</th>\n",
       "      <th>virus</th>\n",
       "    </tr>\n",
       "  </thead>\n",
       "  <tbody>\n",
       "    <tr>\n",
       "      <th>0</th>\n",
       "      <td>0.010811</td>\n",
       "      <td>0</td>\n",
       "      <td>0.000000</td>\n",
       "      <td>0.005405</td>\n",
       "      <td>0.016216</td>\n",
       "      <td>0.000000</td>\n",
       "    </tr>\n",
       "    <tr>\n",
       "      <th>1</th>\n",
       "      <td>0.006494</td>\n",
       "      <td>0</td>\n",
       "      <td>0.000000</td>\n",
       "      <td>0.084416</td>\n",
       "      <td>0.000000</td>\n",
       "      <td>0.000000</td>\n",
       "    </tr>\n",
       "    <tr>\n",
       "      <th>2</th>\n",
       "      <td>0.006329</td>\n",
       "      <td>0</td>\n",
       "      <td>0.000000</td>\n",
       "      <td>0.022152</td>\n",
       "      <td>0.003165</td>\n",
       "      <td>0.006329</td>\n",
       "    </tr>\n",
       "    <tr>\n",
       "      <th>3</th>\n",
       "      <td>0.004237</td>\n",
       "      <td>0</td>\n",
       "      <td>0.000000</td>\n",
       "      <td>0.000000</td>\n",
       "      <td>0.012712</td>\n",
       "      <td>0.000000</td>\n",
       "    </tr>\n",
       "    <tr>\n",
       "      <th>4</th>\n",
       "      <td>0.004545</td>\n",
       "      <td>0</td>\n",
       "      <td>0.000000</td>\n",
       "      <td>0.027273</td>\n",
       "      <td>0.009091</td>\n",
       "      <td>0.000000</td>\n",
       "    </tr>\n",
       "    <tr>\n",
       "      <th>5</th>\n",
       "      <td>0.024000</td>\n",
       "      <td>0</td>\n",
       "      <td>0.000000</td>\n",
       "      <td>0.032000</td>\n",
       "      <td>0.008000</td>\n",
       "      <td>0.000000</td>\n",
       "    </tr>\n",
       "    <tr>\n",
       "      <th>6</th>\n",
       "      <td>0.031073</td>\n",
       "      <td>0</td>\n",
       "      <td>0.000000</td>\n",
       "      <td>0.011299</td>\n",
       "      <td>0.008475</td>\n",
       "      <td>0.000000</td>\n",
       "    </tr>\n",
       "    <tr>\n",
       "      <th>7</th>\n",
       "      <td>0.001425</td>\n",
       "      <td>0</td>\n",
       "      <td>0.001425</td>\n",
       "      <td>0.005698</td>\n",
       "      <td>0.024217</td>\n",
       "      <td>0.002849</td>\n",
       "    </tr>\n",
       "    <tr>\n",
       "      <th>8</th>\n",
       "      <td>0.005814</td>\n",
       "      <td>0</td>\n",
       "      <td>0.000000</td>\n",
       "      <td>0.023256</td>\n",
       "      <td>0.005814</td>\n",
       "      <td>0.000000</td>\n",
       "    </tr>\n",
       "    <tr>\n",
       "      <th>9</th>\n",
       "      <td>0.021390</td>\n",
       "      <td>0</td>\n",
       "      <td>0.000000</td>\n",
       "      <td>0.010695</td>\n",
       "      <td>0.010695</td>\n",
       "      <td>0.000000</td>\n",
       "    </tr>\n",
       "  </tbody>\n",
       "</table>\n",
       "</div>"
      ],
      "text/plain": [
       "   humanitarian  humanitarianism     covid  coronavirus   covid19     virus\n",
       "0      0.010811                0  0.000000     0.005405  0.016216  0.000000\n",
       "1      0.006494                0  0.000000     0.084416  0.000000  0.000000\n",
       "2      0.006329                0  0.000000     0.022152  0.003165  0.006329\n",
       "3      0.004237                0  0.000000     0.000000  0.012712  0.000000\n",
       "4      0.004545                0  0.000000     0.027273  0.009091  0.000000\n",
       "5      0.024000                0  0.000000     0.032000  0.008000  0.000000\n",
       "6      0.031073                0  0.000000     0.011299  0.008475  0.000000\n",
       "7      0.001425                0  0.001425     0.005698  0.024217  0.002849\n",
       "8      0.005814                0  0.000000     0.023256  0.005814  0.000000\n",
       "9      0.021390                0  0.000000     0.010695  0.010695  0.000000"
      ]
     },
     "execution_count": 83,
     "metadata": {},
     "output_type": "execute_result"
    }
   ],
   "source": [
    "tf_table = pd.DataFrame(doc_token_freq_list)\n",
    "tf_table.columns = target_tokens\n",
    "tf_table"
   ]
  },
  {
   "attachments": {
    "image.png": {
     "image/png": "[encoded data removed]"
    }
   },
   "cell_type": "markdown",
   "metadata": {},
   "source": [
    "### 3. Calculate IDF\n",
    "The log of the number of documents divided by the number of documents that contain the word w. Inverse data frequency determines the weight of rare words across all documents in the corpus.\n",
    "![image.png](attachment:image.png)"
   ]
  },
  {
   "cell_type": "code",
   "execution_count": 104,
   "metadata": {},
   "outputs": [],
   "source": [
    "def calIDF(freq_lists, tokens):\n",
    "    N = 10\n",
    "    count_map = dict.fromkeys(tokens, 0)\n",
    "    for freq_list in freq_lists:\n",
    "        for idx, freq in enumerate(freq_list):\n",
    "            if freq != 0:\n",
    "                count_map[tokens[idx]] = count_map[tokens[idx]] + 1\n",
    "    idf_map = dict.fromkeys(tokens, 0)\n",
    "    for key,val in count_map.items():\n",
    "        idf_map[key] = math.log((N + 1) / (val + 1))                       \n",
    "    return idf_map"
   ]
  },
  {
   "cell_type": "code",
   "execution_count": 106,
   "metadata": {},
   "outputs": [],
   "source": [
    "idf_map = calIDF(doc_token_freq_list, target_tokens)"
   ]
  },
  {
   "attachments": {
    "image.png": {
     "image/png": "[encoded data removed]"
    }
   },
   "cell_type": "markdown",
   "metadata": {},
   "source": [
    "### 4. Calculate the TF-IDF\n",
    "Lastly, the TF-IDF is simply the TF multiplied by IDF.\n",
    "![image.png](attachment:image.png)"
   ]
  },
  {
   "cell_type": "code",
   "execution_count": 109,
   "metadata": {},
   "outputs": [],
   "source": [
    "# calculate the TF-IDF function\n",
    "def calTFIDF(tf_lists, idf_m, tokens):\n",
    "    tfidf_list = []\n",
    "    for tf_list in tf_lists:\n",
    "        tfidf = []\n",
    "        for idx, tf in enumerate(tf_list):\n",
    "            tfidf.append(tf * idf_m[tokens[idx]])\n",
    "        tfidf_list.append(tfidf)\n",
    "    return tfidf_list"
   ]
  },
  {
   "cell_type": "code",
   "execution_count": 111,
   "metadata": {},
   "outputs": [],
   "source": [
    "tfidf = calTFIDF(doc_token_freq_list, idf_map, target_tokens)"
   ]
  },
  {
   "cell_type": "code",
   "execution_count": 113,
   "metadata": {},
   "outputs": [
    {
     "data": {
      "text/html": [
       "<div>\n",
       "<style scoped>\n",
       "    .dataframe tbody tr th:only-of-type {\n",
       "        vertical-align: middle;\n",
       "    }\n",
       "\n",
       "    .dataframe tbody tr th {\n",
       "        vertical-align: top;\n",
       "    }\n",
       "\n",
       "    .dataframe thead th {\n",
       "        text-align: right;\n",
       "    }\n",
       "</style>\n",
       "<table border=\"1\" class=\"dataframe\">\n",
       "  <thead>\n",
       "    <tr style=\"text-align: right;\">\n",
       "      <th></th>\n",
       "      <th>humanitarian</th>\n",
       "      <th>humanitarianism</th>\n",
       "      <th>covid</th>\n",
       "      <th>coronavirus</th>\n",
       "      <th>covid19</th>\n",
       "      <th>virus</th>\n",
       "    </tr>\n",
       "  </thead>\n",
       "  <tbody>\n",
       "    <tr>\n",
       "      <th>0</th>\n",
       "      <td>0.0</td>\n",
       "      <td>0.0</td>\n",
       "      <td>0.000000</td>\n",
       "      <td>0.000515</td>\n",
       "      <td>0.001546</td>\n",
       "      <td>0.000000</td>\n",
       "    </tr>\n",
       "    <tr>\n",
       "      <th>1</th>\n",
       "      <td>0.0</td>\n",
       "      <td>0.0</td>\n",
       "      <td>0.000000</td>\n",
       "      <td>0.008046</td>\n",
       "      <td>0.000000</td>\n",
       "      <td>0.000000</td>\n",
       "    </tr>\n",
       "    <tr>\n",
       "      <th>2</th>\n",
       "      <td>0.0</td>\n",
       "      <td>0.0</td>\n",
       "      <td>0.000000</td>\n",
       "      <td>0.002111</td>\n",
       "      <td>0.000302</td>\n",
       "      <td>0.008223</td>\n",
       "    </tr>\n",
       "    <tr>\n",
       "      <th>3</th>\n",
       "      <td>0.0</td>\n",
       "      <td>0.0</td>\n",
       "      <td>0.000000</td>\n",
       "      <td>0.000000</td>\n",
       "      <td>0.001212</td>\n",
       "      <td>0.000000</td>\n",
       "    </tr>\n",
       "    <tr>\n",
       "      <th>4</th>\n",
       "      <td>0.0</td>\n",
       "      <td>0.0</td>\n",
       "      <td>0.000000</td>\n",
       "      <td>0.002599</td>\n",
       "      <td>0.000866</td>\n",
       "      <td>0.000000</td>\n",
       "    </tr>\n",
       "    <tr>\n",
       "      <th>5</th>\n",
       "      <td>0.0</td>\n",
       "      <td>0.0</td>\n",
       "      <td>0.000000</td>\n",
       "      <td>0.003050</td>\n",
       "      <td>0.000762</td>\n",
       "      <td>0.000000</td>\n",
       "    </tr>\n",
       "    <tr>\n",
       "      <th>6</th>\n",
       "      <td>0.0</td>\n",
       "      <td>0.0</td>\n",
       "      <td>0.000000</td>\n",
       "      <td>0.001077</td>\n",
       "      <td>0.000808</td>\n",
       "      <td>0.000000</td>\n",
       "    </tr>\n",
       "    <tr>\n",
       "      <th>7</th>\n",
       "      <td>0.0</td>\n",
       "      <td>0.0</td>\n",
       "      <td>0.002428</td>\n",
       "      <td>0.000543</td>\n",
       "      <td>0.002308</td>\n",
       "      <td>0.003702</td>\n",
       "    </tr>\n",
       "    <tr>\n",
       "      <th>8</th>\n",
       "      <td>0.0</td>\n",
       "      <td>0.0</td>\n",
       "      <td>0.000000</td>\n",
       "      <td>0.002217</td>\n",
       "      <td>0.000554</td>\n",
       "      <td>0.000000</td>\n",
       "    </tr>\n",
       "    <tr>\n",
       "      <th>9</th>\n",
       "      <td>0.0</td>\n",
       "      <td>0.0</td>\n",
       "      <td>0.000000</td>\n",
       "      <td>0.001019</td>\n",
       "      <td>0.001019</td>\n",
       "      <td>0.000000</td>\n",
       "    </tr>\n",
       "  </tbody>\n",
       "</table>\n",
       "</div>"
      ],
      "text/plain": [
       "   humanitarian  humanitarianism     covid  coronavirus   covid19     virus\n",
       "0           0.0              0.0  0.000000     0.000515  0.001546  0.000000\n",
       "1           0.0              0.0  0.000000     0.008046  0.000000  0.000000\n",
       "2           0.0              0.0  0.000000     0.002111  0.000302  0.008223\n",
       "3           0.0              0.0  0.000000     0.000000  0.001212  0.000000\n",
       "4           0.0              0.0  0.000000     0.002599  0.000866  0.000000\n",
       "5           0.0              0.0  0.000000     0.003050  0.000762  0.000000\n",
       "6           0.0              0.0  0.000000     0.001077  0.000808  0.000000\n",
       "7           0.0              0.0  0.002428     0.000543  0.002308  0.003702\n",
       "8           0.0              0.0  0.000000     0.002217  0.000554  0.000000\n",
       "9           0.0              0.0  0.000000     0.001019  0.001019  0.000000"
      ]
     },
     "execution_count": 113,
     "metadata": {},
     "output_type": "execute_result"
    }
   ],
   "source": [
    "tfidf_table = pd.DataFrame(tfidf)\n",
    "tfidf_table.columns = target_tokens\n",
    "tfidf_table"
   ]
  },
  {
   "cell_type": "markdown",
   "metadata": {},
   "source": [
    "### 5. Calculate the TF-IDF Using Scikit Learn\n",
    "The well-known **Scikit Learn** library, which is used for dat processing and deep learning, implement its own TF-IDF algorithmn, then apart from implementing our own, it can also be used."
   ]
  },
  {
   "cell_type": "code",
   "execution_count": 1,
   "metadata": {},
   "outputs": [],
   "source": [
    "# use sklearn as TF-IDF analysis\n",
    "from sklearn.feature_extraction.text import TfidfVectorizer"
   ]
  },
  {
   "cell_type": "code",
   "execution_count": 149,
   "metadata": {},
   "outputs": [],
   "source": [
    "vectorizer = TfidfVectorizer(lowercase=True, stop_words=stopword_list)\n",
    "docs = []\n",
    "for doc in df['text']:\n",
    "    docs.append(doc)\n",
    "vectors = vectorizer.fit_transform(docs)\n",
    "feature_names = vectorizer.get_feature_names()\n",
    "dense = vectors.todense()\n",
    "denselist = dense.tolist()\n",
    "tfidf_df = pd.DataFrame(denselist, columns=feature_names)"
   ]
  },
  {
   "cell_type": "code",
   "execution_count": 150,
   "metadata": {},
   "outputs": [
    {
     "data": {
      "text/html": [
       "<div>\n",
       "<style scoped>\n",
       "    .dataframe tbody tr th:only-of-type {\n",
       "        vertical-align: middle;\n",
       "    }\n",
       "\n",
       "    .dataframe tbody tr th {\n",
       "        vertical-align: top;\n",
       "    }\n",
       "\n",
       "    .dataframe thead th {\n",
       "        text-align: right;\n",
       "    }\n",
       "</style>\n",
       "<table border=\"1\" class=\"dataframe\">\n",
       "  <thead>\n",
       "    <tr style=\"text-align: right;\">\n",
       "      <th></th>\n",
       "      <th>humanitarian</th>\n",
       "      <th>humanitarianism</th>\n",
       "      <th>covid</th>\n",
       "      <th>coronavirus</th>\n",
       "      <th>covid19</th>\n",
       "      <th>virus</th>\n",
       "    </tr>\n",
       "  </thead>\n",
       "  <tbody>\n",
       "    <tr>\n",
       "      <th>0</th>\n",
       "      <td>0.028218</td>\n",
       "      <td>0.0</td>\n",
       "      <td>0.0</td>\n",
       "      <td>0.015850</td>\n",
       "      <td>0.048453</td>\n",
       "      <td>0.000000</td>\n",
       "    </tr>\n",
       "    <tr>\n",
       "      <th>1</th>\n",
       "      <td>0.011391</td>\n",
       "      <td>0.0</td>\n",
       "      <td>0.0</td>\n",
       "      <td>0.166351</td>\n",
       "      <td>0.000000</td>\n",
       "      <td>0.000000</td>\n",
       "    </tr>\n",
       "    <tr>\n",
       "      <th>2</th>\n",
       "      <td>0.021661</td>\n",
       "      <td>0.0</td>\n",
       "      <td>0.0</td>\n",
       "      <td>0.085169</td>\n",
       "      <td>0.012398</td>\n",
       "      <td>0.036681</td>\n",
       "    </tr>\n",
       "    <tr>\n",
       "      <th>3</th>\n",
       "      <td>0.008957</td>\n",
       "      <td>0.0</td>\n",
       "      <td>0.0</td>\n",
       "      <td>0.000000</td>\n",
       "      <td>0.030761</td>\n",
       "      <td>0.000000</td>\n",
       "    </tr>\n",
       "    <tr>\n",
       "      <th>4</th>\n",
       "      <td>0.013774</td>\n",
       "      <td>0.0</td>\n",
       "      <td>0.0</td>\n",
       "      <td>0.092840</td>\n",
       "      <td>0.031534</td>\n",
       "      <td>0.000000</td>\n",
       "    </tr>\n",
       "    <tr>\n",
       "      <th>...</th>\n",
       "      <td>...</td>\n",
       "      <td>...</td>\n",
       "      <td>...</td>\n",
       "      <td>...</td>\n",
       "      <td>...</td>\n",
       "      <td>...</td>\n",
       "    </tr>\n",
       "    <tr>\n",
       "      <th>959</th>\n",
       "      <td>0.041036</td>\n",
       "      <td>0.0</td>\n",
       "      <td>0.0</td>\n",
       "      <td>0.119860</td>\n",
       "      <td>0.084557</td>\n",
       "      <td>0.013898</td>\n",
       "    </tr>\n",
       "    <tr>\n",
       "      <th>960</th>\n",
       "      <td>0.051626</td>\n",
       "      <td>0.0</td>\n",
       "      <td>0.0</td>\n",
       "      <td>0.000000</td>\n",
       "      <td>0.039399</td>\n",
       "      <td>0.000000</td>\n",
       "    </tr>\n",
       "    <tr>\n",
       "      <th>961</th>\n",
       "      <td>0.005388</td>\n",
       "      <td>0.0</td>\n",
       "      <td>0.0</td>\n",
       "      <td>0.024211</td>\n",
       "      <td>0.000000</td>\n",
       "      <td>0.000000</td>\n",
       "    </tr>\n",
       "    <tr>\n",
       "      <th>962</th>\n",
       "      <td>0.006368</td>\n",
       "      <td>0.0</td>\n",
       "      <td>0.0</td>\n",
       "      <td>0.050076</td>\n",
       "      <td>0.007290</td>\n",
       "      <td>0.000000</td>\n",
       "    </tr>\n",
       "    <tr>\n",
       "      <th>963</th>\n",
       "      <td>0.003776</td>\n",
       "      <td>0.0</td>\n",
       "      <td>0.0</td>\n",
       "      <td>0.110279</td>\n",
       "      <td>0.051865</td>\n",
       "      <td>0.006394</td>\n",
       "    </tr>\n",
       "  </tbody>\n",
       "</table>\n",
       "<p>964 rows × 6 columns</p>\n",
       "</div>"
      ],
      "text/plain": [
       "     humanitarian  humanitarianism  covid  coronavirus   covid19     virus\n",
       "0        0.028218              0.0    0.0     0.015850  0.048453  0.000000\n",
       "1        0.011391              0.0    0.0     0.166351  0.000000  0.000000\n",
       "2        0.021661              0.0    0.0     0.085169  0.012398  0.036681\n",
       "3        0.008957              0.0    0.0     0.000000  0.030761  0.000000\n",
       "4        0.013774              0.0    0.0     0.092840  0.031534  0.000000\n",
       "..            ...              ...    ...          ...       ...       ...\n",
       "959      0.041036              0.0    0.0     0.119860  0.084557  0.013898\n",
       "960      0.051626              0.0    0.0     0.000000  0.039399  0.000000\n",
       "961      0.005388              0.0    0.0     0.024211  0.000000  0.000000\n",
       "962      0.006368              0.0    0.0     0.050076  0.007290  0.000000\n",
       "963      0.003776              0.0    0.0     0.110279  0.051865  0.006394\n",
       "\n",
       "[964 rows x 6 columns]"
      ]
     },
     "execution_count": 150,
     "metadata": {},
     "output_type": "execute_result"
    }
   ],
   "source": [
    "#do tf-idf by selected word list\n",
    "tfidf_df[target_tokens]"
   ]
  }
 ],
 "metadata": {
  "kernelspec": {
   "display_name": "Python 3",
   "language": "python",
   "name": "python3"
  },
  "language_info": {
   "codemirror_mode": {
    "name": "ipython",
    "version": 3
   },
   "file_extension": ".py",
   "mimetype": "text/x-python",
   "name": "python",
   "nbconvert_exporter": "python",
   "pygments_lexer": "ipython3",
   "version": "3.8.5"
  }
 },
 "nbformat": 4,
 "nbformat_minor": 4
}
