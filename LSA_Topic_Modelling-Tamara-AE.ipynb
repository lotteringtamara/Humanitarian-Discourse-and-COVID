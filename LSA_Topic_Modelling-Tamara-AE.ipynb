{
 "cells": [
  {
   "cell_type": "code",
   "execution_count": 70,
   "metadata": {},
   "outputs": [
    {
     "name": "stdout",
     "output_type": "stream",
     "text": [
      "Requirement already up-to-date: gensim in /opt/anaconda3/lib/python3.8/site-packages (3.8.3)\n",
      "Requirement already satisfied, skipping upgrade: six>=1.5.0 in /opt/anaconda3/lib/python3.8/site-packages (from gensim) (1.15.0)\n",
      "Requirement already satisfied, skipping upgrade: smart-open>=1.8.1 in /opt/anaconda3/lib/python3.8/site-packages (from gensim) (4.0.1)\n",
      "Requirement already satisfied, skipping upgrade: numpy>=1.11.3 in /opt/anaconda3/lib/python3.8/site-packages (from gensim) (1.18.5)\n",
      "Requirement already satisfied, skipping upgrade: scipy>=0.18.1 in /opt/anaconda3/lib/python3.8/site-packages (from gensim) (1.5.0)\n"
     ]
    }
   ],
   "source": [
    "#install gensim library for topic modeling algorithm \n",
    "!python -m pip install -U gensim "
   ]
  },
  {
   "cell_type": "code",
   "execution_count": 71,
   "metadata": {},
   "outputs": [],
   "source": [
    "import os.path #to work in iOS\n",
    "from gensim import corpora # gensim model to create a corpus dict\n",
    "from gensim.models import LsiModel # gensim Latent Sentiment Indexing model - generates topics\n",
    "from nltk.tokenize import RegexpTokenizer\n",
    "from nltk.corpus import stopwords # remove stopwords to process data into corpus\n",
    "from nltk.stem.porter import PorterStemmer #for stemming and lemmatization \n",
    "from gensim.models.coherencemodel import CoherenceModel# to calculate coherence values to determine optimal topic numbers\n",
    "import matplotlib.pyplot as plt "
   ]
  },
  {
   "cell_type": "code",
   "execution_count": 72,
   "metadata": {},
   "outputs": [],
   "source": [
    "# Create data load function for loading covid_cleandf2.csv. \n",
    "# \"\"\"\n",
    "#     Input  : path and file_name\n",
    "#     Purpose: loading text file\n",
    "#     Output : list of paragraphs/documents and\n",
    "#              title(initial 100 words considred as title of document)\n",
    "# with open( os.path.join(path, file_name) ,\"r\", encoding='utf_8') as fin:\n",
    "\n",
    "\n",
    "#     \"\"\"\n",
    "\n",
    "def load_data(path, file_name):\n",
    "    documents_list = []\n",
    "    titles=[]\n",
    "    with open( os.path.join(path, file_name) ,\"r\") as fin:\n",
    "        for line in fin.readlines():\n",
    "            text = line.strip()\n",
    "            documents_list.append(text)\n",
    "    print(\"Total Number of Documents:\",len(documents_list))\n",
    "    titles.append( text[0:min(len(text),100)] )\n",
    "    return documents_list,titles"
   ]
  },
  {
   "cell_type": "code",
   "execution_count": 73,
   "metadata": {},
   "outputs": [
    {
     "name": "stdout",
     "output_type": "stream",
     "text": [
      "Total Number of Documents: 965\n"
     ]
    }
   ],
   "source": [
    "documents_list,titles = load_data('/Users/tamaralottering/Downloads/GitHub/ds4d-project','AE_cleandf-Copy1.txt')"
   ]
  },
  {
   "cell_type": "code",
   "execution_count": 74,
   "metadata": {},
   "outputs": [
    {
     "data": {
      "text/plain": [
       "'/Users/tamaralottering/Downloads/GitHub/ds4d-project'"
      ]
     },
     "execution_count": 74,
     "metadata": {},
     "output_type": "execute_result"
    }
   ],
   "source": [
    "pwd #to get the path for the code above "
   ]
  },
  {
   "cell_type": "code",
   "execution_count": 75,
   "metadata": {},
   "outputs": [],
   "source": [
    "# After data loading function, you need to preprocess the text. \n",
    "# Following steps are taken to preprocess the text:\n",
    "\n",
    "# Tokenize the text articles\n",
    "# Remove stop words\n",
    "# Perform stemming on text artcle\n",
    "\n",
    "def preprocess_data(documents_list):\n",
    "    \"\"\"\n",
    "    Input  : docuemnt list\n",
    "    Purpose: preprocess text (tokenize, removing stopwords, and stemming)\n",
    "    Output : preprocessed text\n",
    "    \"\"\"\n",
    "    # initialize regex tokenizer\n",
    "    tokenizer = RegexpTokenizer(r'\\w+')\n",
    "    # create English stop words list\n",
    "    en_stop = set(stopwords.words('english'))\n",
    "    # Create p_stemmer of class PorterStemmer\n",
    "    p_stemmer = PorterStemmer()\n",
    "    # list for tokenized documents in loop\n",
    "    texts = []\n",
    "    # loop through document list\n",
    "    for i in documents_list:\n",
    "        # clean and tokenize document string\n",
    "        raw = i.lower()\n",
    "        tokens = tokenizer.tokenize(raw)\n",
    "        # remove stop words from tokens\n",
    "        stopped_tokens = [i for i in tokens if not i in en_stop]\n",
    "        # stem tokens\n",
    "        stemmed_tokens = [p_stemmer.stem(i) for i in stopped_tokens]\n",
    "        # add tokens to list\n",
    "        texts.append(stemmed_tokens)\n",
    "    return texts"
   ]
  },
  {
   "cell_type": "code",
   "execution_count": 76,
   "metadata": {},
   "outputs": [],
   "source": [
    "doc_clean = preprocess_data(documents_list)"
   ]
  },
  {
   "cell_type": "code",
   "execution_count": 77,
   "metadata": {},
   "outputs": [],
   "source": [
    "# Prepare Corpus\n",
    "# Next step is to prepare corpus. Here, you need to create a document-term matrix and dictionary of terms.\n",
    "\n",
    "def prepare_corpus(doc_clean):\n",
    "    \"\"\"\n",
    "    Input  : clean document\n",
    "    Purpose: create term dictionary of our courpus and Converting list of documents (corpus) into Document Term Matrix\n",
    "    Output : term dictionary and Document Term Matrix\n",
    "    \"\"\"\n",
    "    # Creating the term dictionary of our courpus, where every unique term is assigned an index. dictionary = corpora.Dictionary(doc_clean)\n",
    "    dictionary = corpora.Dictionary(doc_clean)\n",
    "    # Converting list of documents (corpus) into Document Term Matrix using dictionary prepared above.\n",
    "    doc_term_matrix = [dictionary.doc2bow(doc) for doc in doc_clean]\n",
    "    # generate LDA model\n",
    "    return dictionary,doc_term_matrix"
   ]
  },
  {
   "cell_type": "code",
   "execution_count": 78,
   "metadata": {},
   "outputs": [],
   "source": [
    " dictionary,doc_term_matrix = prepare_corpus(doc_clean)"
   ]
  },
  {
   "cell_type": "code",
   "execution_count": 79,
   "metadata": {},
   "outputs": [],
   "source": [
    "# Create an LSA model using Gensim\n",
    "# After corpus creation, you can generate a model using LSA.\n",
    "\n",
    "def create_gensim_lsa_model(doc_clean,number_of_topics,words):\n",
    "    \"\"\"\n",
    "    Input  : clean document, number of topics and number of words associated with each topic\n",
    "    Purpose: create LSA model using gensim\n",
    "    Output : return LSA model\n",
    "    \"\"\"\n",
    "    dictionary,doc_term_matrix = prepare_corpus(doc_clean)\n",
    "    # generate LSA model\n",
    "    lsamodel = LsiModel(doc_term_matrix, num_topics=number_of_topics, id2word = dictionary)  # train model\n",
    "    print(lsamodel.print_topics(num_topics=number_of_topics, num_words=words))\n",
    "    return lsamodel"
   ]
  },
  {
   "cell_type": "code",
   "execution_count": 80,
   "metadata": {},
   "outputs": [],
   "source": [
    "# Determine the number of topics\n",
    "# Another extra step needs to be taken to optimize results by identifying an optimum amount of topics. Here, you will generate coherence scores to determine an optimum number of topics.\n",
    "\n",
    "def compute_coherence_values(dictionary, doc_term_matrix, doc_clean, stop = number_of_topics, start=2, step=3):\n",
    "    \"\"\"\n",
    "    Input   : dictionary : Gensim dictionary\n",
    "              corpus : Gensim corpus\n",
    "              texts : List of input texts\n",
    "              stop : Max num of topics\n",
    "    purpose : Compute c_v coherence for various number of topics\n",
    "    Output  : model_list : List of LSA topic models\n",
    "              coherence_values : Coherence values corresponding to the LDA model with respective number of topics\n",
    "    \"\"\"\n",
    "    coherence_values = []\n",
    "    model_list = []\n",
    "    for number_of_topics in range(start, stop, step):\n",
    "        # generate LSA model\n",
    "        model = LsiModel(doc_term_matrix, num_topics=number_of_topics, id2word = dictionary)  # train model\n",
    "        model_list.append(model)\n",
    "        coherencemodel = CoherenceModel(model=model, texts=doc_clean, dictionary=dictionary, coherence='c_v')\n",
    "        coherence_values.append(coherencemodel.get_coherence())\n",
    "    return model_list, coherence_values"
   ]
  },
  {
   "cell_type": "code",
   "execution_count": 81,
   "metadata": {},
   "outputs": [],
   "source": [
    "#compute_coherence_values(dictionary, doc_term_matrix, doc_clean, stop, start=2, step=3)"
   ]
  },
  {
   "cell_type": "code",
   "execution_count": 82,
   "metadata": {},
   "outputs": [],
   "source": [
    "#Let's plot coherence score values to have a sense of optimal no. of topics\n",
    "def plot_graph(doc_clean,start, stop, step):\n",
    "    dictionary,doc_term_matrix=prepare_corpus(doc_clean)\n",
    "    model_list, coherence_values = compute_coherence_values(dictionary, doc_term_matrix,doc_clean,\n",
    "                                                            stop, start, step)\n",
    "    # Show graph\n",
    "    x = range(start, stop, step)\n",
    "    plt.plot(x, coherence_values)\n",
    "    plt.xlabel(\"Number of Topics\")\n",
    "    plt.ylabel(\"Coherence score\")\n",
    "    plt.legend((\"coherence_values\"), loc='best')\n",
    "    plt.show()"
   ]
  },
  {
   "cell_type": "code",
   "execution_count": 84,
   "metadata": {},
   "outputs": [
    {
     "data": {
      "image/png": "[encoded data removed]",
      "text/plain": [
       "<Figure size 432x288 with 1 Axes>"
      ]
     },
     "metadata": {
      "needs_background": "light"
     },
     "output_type": "display_data"
    }
   ],
   "source": [
    "start,stop,step=2,12,1\n",
    "plot_graph(doc_clean,start,stop,step)"
   ]
  },
  {
   "cell_type": "code",
   "execution_count": 85,
   "metadata": {},
   "outputs": [
    {
     "name": "stdout",
     "output_type": "stream",
     "text": [
      "Total Number of Documents: 965\n",
      "[(0, '0.286*\"uae\" + 0.279*\"coronaviru\" + 0.216*\"covid19\" + 0.181*\"said\" + 0.174*\"countri\" + 0.162*\"2020\" + 0.160*\"dubai\" + 0.159*\"pandem\" + 0.146*\"peopl\" + 0.145*\"al\"'), (1, '0.434*\"uae\" + -0.353*\"refuge\" + -0.282*\"syrian\" + -0.242*\"syria\" + -0.239*\"afp\" + -0.159*\"camp\" + 0.142*\"dubai\" + 0.114*\"dhabi\" + 0.111*\"abu\" + 0.103*\"covid19\"'), (2, '-0.347*\"refuge\" + 0.255*\"march\" + 0.250*\"coronaviru\" + 0.216*\"afp\" + 0.213*\"dubai\" + -0.175*\"uae\" + -0.152*\"world\" + 0.147*\"wear\" + 0.143*\"mask\" + -0.119*\"support\"'), (3, '0.376*\"al\" + -0.253*\"coronaviru\" + -0.215*\"august\" + -0.198*\"2020\" + 0.190*\"iraqi\" + 0.183*\"prime\" + 0.180*\"minist\" + -0.180*\"read\" + 0.172*\"mustafa\" + 0.172*\"kadhimi\"')]\n"
     ]
    }
   ],
   "source": [
    "# LSA Model\n",
    "number_of_topics=4\n",
    "words=10\n",
    "document_list,titles=load_data(\"\",\"AE_cleandf-Copy1.txt\")\n",
    "text=preprocess_data(documents_list)\n",
    "model=create_gensim_lsa_model(doc_clean,number_of_topics,words)"
   ]
  },
  {
   "cell_type": "markdown",
   "metadata": {},
   "source": [
    "#### Topics: \n",
    "- Topic 1:\"uae\", \"coronaviru\", \"covid19\",\"said\", \"countri\", \"2020\", \"dubai\", \"pandem\", \"peopl\", \"al\"' (Coronavirus Pandemic 2020 in Dubai, UAE)\n",
    "- Topic 2: \"uae\", \"refuge\", \"syrian\", \"afp\", \"camp\", \"dubai\", \"dhabi\", \"abu\", \"covid19\" (Syrian Refugee Camp in UAE Abu Dhabi & Dubai ??)\n",
    "- Topic 3: \"refuge\", \"march\", \"coronaviru\", \"afp\", \"dubai\", \"uae\" ,\"world\", \"wear\", \"mask\", \"support\" (March to support mask wearing ??)\n",
    "- Topic 4: \"al\" , \"coronaviru\", \"august\", \"2020\", \"iraqi\", \"prime\", minist\", \"read\", \"mustafa\", \"kadhimi\" (Iraqi Prime Minister, Mustafa, Kadhimi on Coronovirus in Aug 2020)"
   ]
  }
 ],
 "metadata": {
  "kernelspec": {
   "display_name": "Python 3",
   "language": "python",
   "name": "python3"
  },
  "language_info": {
   "codemirror_mode": {
    "name": "ipython",
    "version": 3
   },
   "file_extension": ".py",
   "mimetype": "text/x-python",
   "name": "python",
   "nbconvert_exporter": "python",
   "pygments_lexer": "ipython3",
   "version": "3.8.3"
  }
 },
 "nbformat": 4,
 "nbformat_minor": 4
}
